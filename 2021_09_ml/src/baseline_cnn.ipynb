{
  "nbformat": 4,
  "nbformat_minor": 0,
  "metadata": {
    "colab": {
      "name": "baseline_cnn.ipynb",
      "provenance": [],
      "collapsed_sections": [],
      "include_colab_link": true
    },
    "kernelspec": {
      "display_name": "Python 3",
      "name": "python3"
    },
    "language_info": {
      "name": "python"
    }
  },
  "cells": [
    {
      "cell_type": "markdown",
      "metadata": {
        "id": "view-in-github",
        "colab_type": "text"
      },
      "source": [
        "<a href=\"https://colab.research.google.com/github/merkhaiburch/hackathons/blob/main/2021_09_ml/src/baseline_cnn.ipynb\" target=\"_parent\"><img src=\"https://colab.research.google.com/assets/colab-badge.svg\" alt=\"Open In Colab\"/></a>"
      ]
    },
    {
      "cell_type": "markdown",
      "metadata": {
        "id": "OTC1D9CRTem-"
      },
      "source": [
        "Training a baseline CNN on ATATCseq peaks cis to genes to predict v4 expression in B73. Using raw expression from the max across-tissue Giri cis-HARE expression and potentially the Kremling 7-tissue dataset.\n",
        "\n",
        "We will use DanQ and/or DeepSEA\n",
        "\n",
        "\n",
        "Tasks to Do\n",
        "* Create padded sequences\n",
        "* Create an un-padded sequences\n",
        "* Connect sequences to expression data\n",
        "* One hot encode DNA sequences\n",
        "* Create training and test sets\n",
        "* Create two models\n",
        "        DeepSea if time\n",
        "        DanQ\n",
        "* Fit model object with training data set\n",
        "* Calculate ROC between models"
      ]
    },
    {
      "cell_type": "markdown",
      "metadata": {
        "id": "y76rh1K5RPGn"
      },
      "source": [
        "Import libraries"
      ]
    },
    {
      "cell_type": "code",
      "metadata": {
        "id": "20gouXbmUw8H"
      },
      "source": [
        "import tensorflow as tf\n",
        "from tensorflow import keras\n",
        "from keras import datasets, layers, models\n",
        "import matplotlib.pyplot as plt\n",
        "import pandas as pd\n",
        "from google.colab import drive\n",
        "import numpy as np"
      ],
      "execution_count": 25,
      "outputs": []
    },
    {
      "cell_type": "code",
      "metadata": {
        "colab": {
          "base_uri": "https://localhost:8080/"
        },
        "id": "gV63fiG9WATm",
        "outputId": "144e43b0-748b-4524-c8a8-7481e4d0146d"
      },
      "source": [
        "# Mount drive to find data\n",
        "drive.mount('/content/drive')\n"
      ],
      "execution_count": 26,
      "outputs": [
        {
          "output_type": "stream",
          "name": "stdout",
          "text": [
            "Drive already mounted at /content/drive; to attempt to forcibly remount, call drive.mount(\"/content/drive\", force_remount=True).\n"
          ]
        }
      ]
    },
    {
      "cell_type": "markdown",
      "metadata": {
        "id": "GzaCANQmRwv_"
      },
      "source": [
        "### Import seqeunce information and expression data"
      ]
    },
    {
      "cell_type": "code",
      "metadata": {
        "colab": {
          "base_uri": "https://localhost:8080/"
        },
        "id": "acjKxqeeR2ZX",
        "outputId": "55a035e4-0448-4737-a61d-239f317ee26f"
      },
      "source": [
        "# path where data lives on drive\n",
        "data_path = '/content/drive/MyDrive/HackTravis_Sept2021'\n",
        "\n",
        "# Import expression data\n",
        "genes = pd.read_csv((data_path +\"/Expression_Datasets/exp_b73_max_cis_trans_model.csv\"))\n",
        "\n",
        "# import atac-seq peak seqeunce\n",
        "atac_10k = pd.read_csv((data_path + \"/Regulatory_DNA/single_peak_cutoff_250.tsv\"), sep = '\\t')\n",
        "\n",
        "# combine atac and expression data\n",
        "exp_atac = genes.merge(atac_10k, left_on='v4_gene', right_on='gene')"
      ],
      "execution_count": 27,
      "outputs": [
        {
          "output_type": "stream",
          "name": "stdout",
          "text": [
            "              v4_gene  max_cis_rna_value\n",
            "0      Zm00001d007725           0.000000\n",
            "1      Zm00001d007718           0.000000\n",
            "2      Zm00001d007717           0.000000\n",
            "3      Zm00001d007716           0.000000\n",
            "4      Zm00001d018986           0.000000\n",
            "...               ...                ...\n",
            "34351  Zm00001d010516           9.052502\n",
            "34352  Zm00001d032787           0.155082\n",
            "34353  Zm00001d034682           0.000000\n",
            "34354  Zm00001d043862           0.000000\n",
            "34355  Zm00001d015476          16.060915\n",
            "\n",
            "[34356 rows x 2 columns]\n",
            "                gene                                                DNA\n",
            "0     Zm00001d001771  CTCGTGATAAAATTAAAATGAACTGAGCCGAGTCGTGGCAAACTGA...\n",
            "1     Zm00001d001774  CAATTTTTCTCCCCGCACCGCACGCCACGCCACGCCATAATTAAAC...\n",
            "2     Zm00001d001776  TTGTCCTAGGGCGCGAGGGGTCGAGAGGGCCCATTGTATTGGGTGC...\n",
            "3     Zm00001d001780  TCCCGATTACAGGCATGTCGGTACAAATAAACCAGGAAATATTCCC...\n",
            "4     Zm00001d001785  GTCATCAAACCCACGCTTCCAATTCTACTACGGAGGAGAGGTAACG...\n",
            "...              ...                                                ...\n",
            "5767  Zm00001d054072  CCAGCGTACTCCCGTTGCAACGCACGGGCACGCACCTAGTTATACA...\n",
            "5768  Zm00001d054073  GCCTGCCCCTGCGTCGCCATGGCCATGGTGTCGACTCTCGACTGTC...\n",
            "5769  Zm00001d054074  AAACCTGTATAGAATTTGGAGTCGAAAATCAGGAATGGACAGGCAG...\n",
            "5770  Zm00001d054087  AGACGGGGTGGGACGGGACACCGTAGCTGCAGCCGCACGATGAGGA...\n",
            "5771  Zm00001d054089  AAAATGCCGCTTTAATTTACTTCGTTCGTTTTTATATCTTTTTTAG...\n",
            "\n",
            "[5772 rows x 2 columns]\n",
            "             v4_gene  ...                                                DNA\n",
            "0     Zm00001d048404  ...  CACGTGCCGACGACCACGCCTCCGTGCCGGGTAAACCGCCTACAAA...\n",
            "1     Zm00001d048342  ...  ATGGAAATTGTAAAGGGCGCGCGTGGACAAAAGCGGCAGCAGGAAA...\n",
            "2     Zm00001d048400  ...  ACAAAAGGGTGGACGCGGAAGCCACGCACCTCGCCACCAGAAATTT...\n",
            "3     Zm00001d039411  ...  TCTCCGCGGATCCGACGGTAGCAAATGAACCTCACTCAGATCGGAG...\n",
            "4     Zm00001d039411  ...  TCTCCGCGGATCCGACGGTAGCAAATGAACCTCACTCAGATCGGAG...\n",
            "...              ...  ...                                                ...\n",
            "5370  Zm00001d013809  ...  TCGTCAACGACGAAGACTAGAATGCACTAGATGGATCCATTAGTAG...\n",
            "5371  Zm00001d011761  ...  GGGCCGTTTCGAAGCCTATATAAGAAAAATAAAGAAAAAGGCCGTT...\n",
            "5372  Zm00001d029497  ...  TCACCTGCTTCCTGTACCGCGTCGTTGCTTCTGTAGCTGCCCACAA...\n",
            "5373  Zm00001d009509  ...  GAACAAAATATTTTAAAAAACGAATTTAAAAAAATAAGAAAATTAA...\n",
            "5374  Zm00001d022386  ...  TGTTGCTACTTCTACAGGACCACCTTCGAAGGCAGTTTACGCTTTC...\n",
            "\n",
            "[5375 rows x 4 columns]\n"
          ]
        }
      ]
    },
    {
      "cell_type": "code",
      "metadata": {
        "colab": {
          "base_uri": "https://localhost:8080/",
          "height": 282
        },
        "id": "rlNUj51LWI2d",
        "outputId": "f248d1d0-fe93-41d0-9e46-f842fe867f44"
      },
      "source": [
        "# Plot expression histogram\n",
        "n, bins, patches = plt.hist(genes[\"max_cis_rna_value\"], 10000, density=True, facecolor='g', alpha=0.75)\n",
        "plt.xlim(0,50)\n",
        "genes.describe()\n",
        "(genes[\"max_cis_rna_value\"] == 0).sum()"
      ],
      "execution_count": 28,
      "outputs": [
        {
          "output_type": "execute_result",
          "data": {
            "text/plain": [
              "16127"
            ]
          },
          "metadata": {},
          "execution_count": 28
        },
        {
          "output_type": "display_data",
          "data": {
            "image/png": "[encoded data removed]",
            "text/plain": [
              "<Figure size 432x288 with 1 Axes>"
            ]
          },
          "metadata": {
            "needs_background": "light"
          }
        }
      ]
    },
    {
      "cell_type": "code",
      "metadata": {
        "id": "FSZPN3jcX-MC"
      },
      "source": [
        "# If genes > 0 --> expressed/TRUE, if <= 0 --> notExpressed/FALSE\n",
        "exp_atac[\"expressed\"] = np.where(exp_atac[\"max_cis_rna_value\"] > 0, 0, 1)\n",
        "\n",
        "# Drop extra columns\n",
        "exp_atac = exp_atac[[\"v4_gene\", \"DNA\", \"expressed\"]]\n",
        "\n",
        "# rename columns\n",
        "exp_atac.columns = [\"gene\", \"seq\", \"target\"]"
      ],
      "execution_count": 29,
      "outputs": []
    },
    {
      "cell_type": "markdown",
      "metadata": {
        "id": "pzcv4_xgeUL9"
      },
      "source": [
        "### Test to see if the model is learning anything by adding random seqeunce onto all expressed genes"
      ]
    },
    {
      "cell_type": "code",
      "metadata": {
        "id": "nLd0IWvpeQhP"
      },
      "source": [
        ""
      ],
      "execution_count": null,
      "outputs": []
    },
    {
      "cell_type": "markdown",
      "metadata": {
        "id": "5f7qZ5-Mqw7J"
      },
      "source": [
        "Look at dataset:\n",
        "- are there an equal number of expressed and non expressed genes? --> more unexpressed than expressed\n",
        "- What is the correlation in gene expression and the # of atacseq peaks? --> dont have the right data yet"
      ]
    },
    {
      "cell_type": "code",
      "metadata": {
        "colab": {
          "base_uri": "https://localhost:8080/"
        },
        "id": "8buPOa2Mqk_f",
        "outputId": "5248ae17-ee17-4d99-d60c-1d8f5796d4ef"
      },
      "source": [
        "# Count number of expressed and non-expressed genes\n",
        "print(\"Number of un-expressed genes:\", (exp_atac[\"target\"] == 0).sum())\n",
        "print(\"Number of expressed genes:\", (exp_atac[\"target\"] == 1).sum())"
      ],
      "execution_count": 30,
      "outputs": [
        {
          "output_type": "stream",
          "name": "stdout",
          "text": [
            "Number of un-expressed genes: 3406\n",
            "Number of expressed genes: 1969\n"
          ]
        }
      ]
    },
    {
      "cell_type": "markdown",
      "metadata": {
        "id": "uGzDuDpBSUpK"
      },
      "source": [
        "Split training, validation, test data based on the Washburn 2019 gene families using a 80, 10, 10 split."
      ]
    },
    {
      "cell_type": "code",
      "metadata": {
        "colab": {
          "base_uri": "https://localhost:8080/"
        },
        "id": "cvwXIPbKSb5J",
        "outputId": "4e6e1565-e4b4-4140-bd6f-053b8caefd08"
      },
      "source": [
        "# load in data\n",
        "washburn = pd.read_csv((data_path +\"/washburn_training_test_v4_unexpressed_v_expressed.csv\"))\n",
        "\n",
        "# drop extra column\n",
        "washburn = washburn[[\"v4\", \"family_index\"]]\n",
        "\n",
        "# create train and test indicies\n",
        "from sklearn.model_selection import GroupShuffleSplit\n",
        "train_inds, test_inds = next(GroupShuffleSplit(test_size=.20, n_splits=2, random_state = 7).split(washburn, groups=washburn['family_index']))\n",
        "\n",
        "# Split data 80:20\n",
        "train = washburn.iloc[train_inds]\n",
        "test = washburn.iloc[test_inds]\n",
        "\n",
        "# Split test into a test and validation (0:10)\n",
        "test2_inds, validation_inds = next(GroupShuffleSplit(test_size=.5, n_splits=2, random_state = 7).split(test, groups=test['family_index']))\n",
        "\n",
        "test2 = test.iloc[test2_inds]\n",
        "validation = test.iloc[validation_inds]\n",
        "\n",
        "# Print out dimensions of training and test data\n",
        "print(train.shape, test2.shape, validation.shape)\n",
        "print(validation)"
      ],
      "execution_count": 31,
      "outputs": [
        {
          "output_type": "stream",
          "name": "stdout",
          "text": [
            "(27984, 2) (3652, 2) (2720, 2)\n",
            "                   v4  family_index\n",
            "0      Zm00001d007725           152\n",
            "22     Zm00001d048307          2973\n",
            "25     Zm00001d048310           374\n",
            "45     Zm00001d042723           204\n",
            "47     Zm00001d039411            84\n",
            "...               ...           ...\n",
            "34338  Zm00001d001825            84\n",
            "34340  Zm00001d035014          9081\n",
            "34341  Zm00001d030638          1114\n",
            "34342  Zm00001d009811           653\n",
            "34345  Zm00001d011122          9083\n",
            "\n",
            "[2720 rows x 2 columns]\n"
          ]
        }
      ]
    },
    {
      "cell_type": "markdown",
      "metadata": {
        "id": "Q71s-jeOezIa"
      },
      "source": [
        "Merge training, test, and validation with sequence information"
      ]
    },
    {
      "cell_type": "code",
      "metadata": {
        "colab": {
          "base_uri": "https://localhost:8080/"
        },
        "id": "LEN0B8uZe54G",
        "outputId": "b910bb74-0ec5-4f01-a212-87e3fea57e51"
      },
      "source": [
        "train = train.merge(exp_atac, left_on= 'v4', right_on= 'gene')\n",
        "test = test2.merge(exp_atac, left_on= 'v4', right_on= 'gene')\n",
        "validation = validation.merge(exp_atac, left_on= 'v4', right_on= 'gene')\n",
        "\n",
        "# Remove extra columns across files\n",
        "train = train[['seq', 'target']]\n",
        "test = test[['seq', 'target']]\n",
        "validation = validation[['seq', 'target']]\n",
        "\n",
        "print(train.shape, test.shape, validation.shape)\n",
        "print(train)"
      ],
      "execution_count": 32,
      "outputs": [
        {
          "output_type": "stream",
          "name": "stdout",
          "text": [
            "(4958, 2) (627, 2) (488, 2)\n",
            "                                                    seq  target\n",
            "0     CACGTGCCGACGACCACGCCTCCGTGCCGGGTAAACCGCCTACAAA...       1\n",
            "1     ACAAAAGGGTGGACGCGGAAGCCACGCACCTCGCCACCAGAAATTT...       1\n",
            "2     TTAGATACCCGAAATATAAAAAATCCAAAAACCCGACCCGAAATAT...       1\n",
            "3     AAAGGCACAAAGAAGCTTGTGGCGTCTGCATCTGCATGCGTTGTTG...       1\n",
            "4     CGTCCGGGTCTCGGGTGCGGTGTCGAAGGGTCCTTGTCGAACGCCA...       1\n",
            "...                                                 ...     ...\n",
            "4953  TCGTCAACGACGAAGACTAGAATGCACTAGATGGATCCATTAGTAG...       0\n",
            "4954  GGGCCGTTTCGAAGCCTATATAAGAAAAATAAAGAAAAAGGCCGTT...       0\n",
            "4955  TCACCTGCTTCCTGTACCGCGTCGTTGCTTCTGTAGCTGCCCACAA...       0\n",
            "4956  GAACAAAATATTTTAAAAAACGAATTTAAAAAAATAAGAAAATTAA...       1\n",
            "4957  TGTTGCTACTTCTACAGGACCACCTTCGAAGGCAGTTTACGCTTTC...       0\n",
            "\n",
            "[4958 rows x 2 columns]\n"
          ]
        }
      ]
    },
    {
      "cell_type": "markdown",
      "metadata": {
        "id": "2iYPpGjM_X_M"
      },
      "source": [
        "DanQ model setup"
      ]
    },
    {
      "cell_type": "code",
      "metadata": {
        "colab": {
          "base_uri": "https://localhost:8080/"
        },
        "id": "_ks24vDhA6cv",
        "outputId": "5f1e9d74-a45e-4b8b-aec0-4d0d0c4fe3bd"
      },
      "source": [
        "# Create intervals, one hot encode them, return. Inputs: pandas dataframe with sequence and target data (expression)\n",
        "# Taken from: https://bitbucket.org/bucklerlab/a2z-regulatory/src/master/src/python/a2z/a2z/data/__init__.py\n",
        "import logging\n",
        "from math import ceil\n",
        "from typing import Optional, Dict\n",
        "\n",
        "!pip install Bio\n",
        "from Bio import Seq\n",
        "import numpy as np\n",
        "import pandas as pd\n",
        "from tensorflow import keras as k\n",
        "\n",
        "\n",
        "BASE_1HOT = {\n",
        "    \"A\": np.array([1, 0, 0, 0]),\n",
        "    \"C\": np.array([0, 1, 0, 0]),\n",
        "    \"G\": np.array([0, 0, 1, 0]),\n",
        "    \"T\": np.array([0, 0, 0, 1]),\n",
        "    \"W\": np.array([0.5, 0, 0, 0.5]),\n",
        "    \"S\": np.array([0, 0.5, 0.5, 0]),\n",
        "    \"M\": np.array([0.5, 0.5, 0, 0]),\n",
        "    \"K\": np.array([0, 0, 0.5, 0.5]),\n",
        "    \"R\": np.array([0.5, 0, 0.5, 0]),\n",
        "    \"Y\": np.array([0, 0.5, 0, 0.5]),\n",
        "    \"B\": np.array([0, 1.0 / 3, 1.0 / 3, 1.0 / 3]),\n",
        "    \"D\": np.array([1.0 / 3, 0, 1.0 / 3, 1.0 / 3]),\n",
        "    \"H\": np.array([1.0 / 3, 1.0 / 3, 0, 1.0 / 3]),\n",
        "    \"V\": np.array([1.0 / 3, 1.0 / 3, 1.0 / 3, 0]),\n",
        "    \"N\": np.array([0.25, 0.25, 0.25, 0.25]),\n",
        "}\n",
        "\n",
        "\n",
        "def seq_one_hot_encode(seq: str, pad_to: Optional[int] = None):\n",
        "    \"\"\" one-hot encodes a DNA sequence \"\"\"\n",
        "    if pad_to:\n",
        "        encoded = np.zeros(shape=(pad_to, 4))\n",
        "        if len(seq) > pad_to:\n",
        "            seq = seq[:pad_to]\n",
        "    else:\n",
        "        encoded = np.zeros(shape=(len(seq), 4))\n",
        "\n",
        "    for i, base in enumerate(seq.upper()):\n",
        "        try:\n",
        "            encoded[i, :] = BASE_1HOT[base]\n",
        "        except KeyError:\n",
        "            logging.error(\n",
        "                f\"Unrecognized base encountered during one-hot \" f\"encoding: '{base}'\"\n",
        "            )\n",
        "    return encoded\n",
        "\n",
        "class IntervalDataset(k.utils.Sequence):\n",
        "    def __init__(self, intervals_df: pd.DataFrame, batch_size = 128, pad_to = None, no_target = False):\n",
        "        self._df = intervals_df\n",
        "        self.batch_size = batch_size\n",
        "        self.pad_to = pad_to\n",
        "        self.no_target = no_target\n",
        "\n",
        "    def __len__(self):\n",
        "        return ceil(len(self._df) / self.batch_size)\n",
        "\n",
        "    def __getitem__(self, idx: int):\n",
        "        batch_start_idx = idx * self.batch_size\n",
        "        batch_intervals = self._df.iloc[batch_start_idx : batch_start_idx + self.batch_size]\n",
        "        try:\n",
        "            x = np.stack([seq_one_hot_encode(seq, self.pad_to) for seq in batch_intervals['seq']])\n",
        "        except ValueError as e:\n",
        "            logging.error(\"ValueError encountered while trying to one-hot encode sequence batches, are all of your sequences the same length?\")\n",
        "            raise e\n",
        "        if self.no_target:\n",
        "            y = None\n",
        "        else:\n",
        "            y = np.expand_dims(batch_intervals['target'].to_numpy(), axis = 1)\n",
        "\n",
        "        return (x, y)\n"
      ],
      "execution_count": 33,
      "outputs": [
        {
          "output_type": "stream",
          "name": "stdout",
          "text": [
            "Requirement already satisfied: Bio in /usr/local/lib/python3.7/dist-packages (0.8.9)\n",
            "Requirement already satisfied: tqdm>=4.62 in /usr/local/lib/python3.7/dist-packages (from Bio) (4.62.0)\n",
            "Requirement already satisfied: plac in /usr/local/lib/python3.7/dist-packages (from Bio) (1.1.3)\n",
            "Requirement already satisfied: biopython>=1.79 in /usr/local/lib/python3.7/dist-packages (from Bio) (1.79)\n",
            "Requirement already satisfied: mygene in /usr/local/lib/python3.7/dist-packages (from Bio) (3.2.2)\n",
            "Requirement already satisfied: requests in /usr/local/lib/python3.7/dist-packages (from Bio) (2.23.0)\n",
            "Requirement already satisfied: numpy in /usr/local/lib/python3.7/dist-packages (from biopython>=1.79->Bio) (1.19.5)\n",
            "Requirement already satisfied: biothings-client>=0.2.6 in /usr/local/lib/python3.7/dist-packages (from mygene->Bio) (0.2.6)\n",
            "Requirement already satisfied: urllib3!=1.25.0,!=1.25.1,<1.26,>=1.21.1 in /usr/local/lib/python3.7/dist-packages (from requests->Bio) (1.24.3)\n",
            "Requirement already satisfied: certifi>=2017.4.17 in /usr/local/lib/python3.7/dist-packages (from requests->Bio) (2021.5.30)\n",
            "Requirement already satisfied: idna<3,>=2.5 in /usr/local/lib/python3.7/dist-packages (from requests->Bio) (2.10)\n",
            "Requirement already satisfied: chardet<4,>=3.0.2 in /usr/local/lib/python3.7/dist-packages (from requests->Bio) (3.0.4)\n"
          ]
        }
      ]
    },
    {
      "cell_type": "code",
      "metadata": {
        "id": "0EQPSOQE_awW"
      },
      "source": [
        "# create interval refernces (sequence and target --> character DNA and target DNA seqeunce)\n",
        "# taken from: https://bitbucket.org/bucklerlab/a2z-regulatory/src/master/results/2020-11-13_fig1/train.py\n",
        "training_data = IntervalDataset(train)\n",
        "validation_data = IntervalDataset(validation)\n",
        "test_data = IntervalDataset(test)"
      ],
      "execution_count": 34,
      "outputs": []
    },
    {
      "cell_type": "markdown",
      "metadata": {
        "id": "SZLJHU6U5evb"
      },
      "source": [
        "Build DanQ model"
      ]
    },
    {
      "cell_type": "code",
      "metadata": {
        "id": "r3CXCMOnVDhQ"
      },
      "source": [
        "import imp\n",
        "import tensorflow.keras.layers as kl\n",
        "\n",
        "def build_DanQ(window_size: int = 300, conv_activation = 'relu') -> keras.Model:\n",
        "    DanQ = keras.Sequential([\n",
        "        kl.Conv1D(320, 26, activation = conv_activation, input_shape = (window_size, 4)),\n",
        "        kl.Dropout(0.2),\n",
        "        kl.MaxPool1D(13, 13),\n",
        "        kl.Bidirectional(kl.LSTM(320)),\n",
        "        kl.Dropout(0.5),\n",
        "        kl.Dense(925),\n",
        "        kl.Dense(1, activation = 'sigmoid')\n",
        "        ], name = \"DanQ\")\n",
        "    return DanQ\n",
        "\n",
        "# Build DanQ model\n",
        "model = build_DanQ(250)\n",
        "\n",
        "# Change learning rate\n",
        "from keras import metrics\n",
        "optimizer = keras.optimizers.Adam(learning_rate=10)\n",
        "model.compile(loss='BCE',\n",
        "              optimizer=optimizer, \n",
        "              metrics=['accuracy'])"
      ],
      "execution_count": 60,
      "outputs": []
    },
    {
      "cell_type": "markdown",
      "metadata": {
        "id": "F9zhWDe4UXck"
      },
      "source": [
        "Fit DanQ model to out data"
      ]
    },
    {
      "cell_type": "code",
      "metadata": {
        "id": "mbkiYUIBT0y_"
      },
      "source": [
        "# Set parameters\n",
        "validation_freq = 1\n",
        "epochs = 13\n",
        "\n",
        "# Fit model\n",
        "train_history = model.fit(\n",
        "    training_data,\n",
        "    validation_data = validation_data,\n",
        "    validation_freq = validation_freq,\n",
        "    epochs = epochs,\n",
        "    workers = 1,\n",
        "    verbose = 0)"
      ],
      "execution_count": 61,
      "outputs": []
    },
    {
      "cell_type": "markdown",
      "metadata": {
        "id": "0rCTR4vRIW-1"
      },
      "source": [
        "Look at model prediction accuracy"
      ]
    },
    {
      "cell_type": "code",
      "metadata": {
        "colab": {
          "base_uri": "https://localhost:8080/",
          "height": 590
        },
        "id": "r36EGXS5IWDu",
        "outputId": "cce1d881-9e89-454b-e9ff-418a56cde66f"
      },
      "source": [
        "# summarize history for accuracy\n",
        "plt.plot(train_history.history['accuracy'])\n",
        "plt.plot(train_history.history['val_accuracy'])\n",
        "plt.title('model accuracy')\n",
        "plt.ylabel('accuracy')\n",
        "plt.xlabel('epoch')\n",
        "plt.legend(['train', 'test'], loc='upper left')\n",
        "plt.show()\n",
        "\n",
        "# plot training curves --> loss vs epoch\n",
        "fig, ax = plt.subplots()\n",
        "ax.plot(train_history.epoch, train_history.history['loss'], color = 'orange', label = 'Training')\n",
        "ax.plot(np.arange(validation_freq - 1, epochs, validation_freq), train_history.history['val_loss'], color = 'lightblue', label = 'Validation')\n",
        "ax.set_xlabel('Epoch')\n",
        "ax.set_ylabel(f\"Loss ({model.loss})\")\n",
        "ax.set_title(f\"{model.name} Training Curve\")\n",
        "ax.legend()"
      ],
      "execution_count": 62,
      "outputs": [
        {
          "output_type": "display_data",
          "data": {
            "image/png": "[encoded data removed]",
            "text/plain": [
              "<Figure size 432x288 with 1 Axes>"
            ]
          },
          "metadata": {
            "needs_background": "light"
          }
        },
        {
          "output_type": "execute_result",
          "data": {
            "text/plain": [
              "<matplotlib.legend.Legend at 0x7f8e0ceabc10>"
            ]
          },
          "metadata": {},
          "execution_count": 62
        },
        {
          "output_type": "display_data",
          "data": {
            "image/png": "[encoded data removed]",
            "text/plain": [
              "<Figure size 432x288 with 1 Axes>"
            ]
          },
          "metadata": {
            "needs_background": "light"
          }
        }
      ]
    },
    {
      "cell_type": "markdown",
      "metadata": {
        "id": "tY7LVwfpw5JG"
      },
      "source": [
        "Look at model predictions with test set"
      ]
    },
    {
      "cell_type": "code",
      "metadata": {
        "colab": {
          "base_uri": "https://localhost:8080/",
          "height": 329
        },
        "id": "v8uTzv32w4T0",
        "outputId": "e6c4a875-8817-436d-ade7-cfcc41b5b596"
      },
      "source": [
        "# Generate predictions (probabilities -- the output of the last layer)\n",
        "# on new data using `predict`\n",
        "print(\"Generate predictions\")\n",
        "predictions = model.predict(test_data)\n",
        "\n",
        "# plot predictions vs actual data\n",
        "import matplotlib.pyplot as plt\n",
        "plt.scatter(test['target'], predictions)\n",
        "plt.xlabel('Observed Expression')\n",
        "plt.ylabel(\"Predicted Expression\")\n",
        "plt.title(\"Predicted vs Observed max-HARE Expression\")"
      ],
      "execution_count": 67,
      "outputs": [
        {
          "output_type": "stream",
          "name": "stdout",
          "text": [
            "Generate predictions\n"
          ]
        },
        {
          "output_type": "execute_result",
          "data": {
            "text/plain": [
              "Text(0.5, 1.0, 'Predicted vs Observed max-HARE Expression')"
            ]
          },
          "metadata": {},
          "execution_count": 67
        },
        {
          "output_type": "display_data",
          "data": {
            "image/png": "[encoded data removed]",
            "text/plain": [
              "<Figure size 432x288 with 1 Axes>"
            ]
          },
          "metadata": {
            "needs_background": "light"
          }
        }
      ]
    },
    {
      "cell_type": "markdown",
      "metadata": {
        "id": "GdYfq54edsyu"
      },
      "source": [
        "Calculate a single value to describe the AuROC"
      ]
    },
    {
      "cell_type": "code",
      "metadata": {
        "id": "28qWcKMEcaMY"
      },
      "source": [
        " auROC = roc_auc_score(y, y_hat)"
      ],
      "execution_count": null,
      "outputs": []
    },
    {
      "cell_type": "markdown",
      "metadata": {
        "id": "fmYQOSSO4_4m"
      },
      "source": [
        "Create ROC, PR, and TPR curves.\n",
        "\n",
        "Taken from: https://bitbucket.org/bucklerlab/a2z-regulatory/src/master/src/python/a2z/a2z/plots.py"
      ]
    },
    {
      "cell_type": "code",
      "metadata": {
        "id": "fqMX9oYi5B73"
      },
      "source": [
        "from collections import Counter\n",
        "from typing import Iterable\n",
        "\n",
        "import numpy as np\n",
        "from matplotlib.figure import Figure\n",
        "from matplotlib.patches import FancyBboxPatch\n",
        "import matplotlib.pyplot as plt\n",
        "from sklearn.metrics import precision_recall_curve, f1_score\n",
        "from sklearn.metrics import roc_curve as sk_roc_curve\n",
        "\n",
        "def pr_curve(y_true: Iterable, scores: Iterable) -> Figure:\n",
        "    fig, ax = plt.subplots()\n",
        "\n",
        "    # determine baseline\n",
        "    true_cnt = Counter(y_true)\n",
        "    n = sum(true_cnt.values())\n",
        "    n_true = true_cnt[1]\n",
        "    base_y = n_true / n\n",
        "\n",
        "    precision, recall, thresholds = precision_recall_curve(y_true, scores)\n",
        "    ax.plot(recall, precision)\n",
        "    ax.plot([0, 1], [base_y] * 2, color=\"gray\", linestyle=\"--\", label=\"Baseline\")\n",
        "    ax.set_xlim((0, 1))\n",
        "    ax.set_ylim((0, 1))\n",
        "    ax.set_xlabel(\"Recall\")\n",
        "    ax.set_ylabel(\"Precision\")\n",
        "    ax.set_title(\"PR Curve\")\n",
        "    ax.legend()\n",
        "\n",
        "    return fig\n",
        "\n",
        "\n",
        "def tpr_curve(y_true: Iterable, scores: Iterable) -> Figure:\n",
        "    \"\"\" F1 baseline credit: https://stats.stackexchange.com/questions/390200/what-is-the-baseline-of-the-f1-score-for-a-binary-classifier  \"\"\"\n",
        "    fig, ax = plt.subplots()\n",
        "\n",
        "    # determine baseline\n",
        "    true_cnt = Counter(y_true)\n",
        "    n = sum(true_cnt.values())\n",
        "    n_true = true_cnt[1]\n",
        "    base_y = n_true / n\n",
        "\n",
        "    precision, recall, thresholds = precision_recall_curve(y_true, scores)\n",
        "    f1 = 2 * ((precision * recall) / (precision + recall))\n",
        "    f1_baseline = (2 * base_y) / (base_y + 1)\n",
        "    ax.plot(thresholds, precision[:-1], label = \"Precision\")\n",
        "    ax.plot(thresholds, recall[:-1], label = \"Recall\")\n",
        "    ax.plot(thresholds, f1[:-1], label = \"F1 Score\")\n",
        "    ax.plot([0, 1], [base_y] * 2, color=\"gray\", linestyle=\"--\", label=\"Precision Baseline\")\n",
        "    ax.plot([0, 1], [f1_baseline] * 2, color=\"lightgray\", linestyle = \"--\", label=\"F1 Baseline\")\n",
        "    ax.set_xlim((0, 1))\n",
        "    ax.set_ylim((0, 1))\n",
        "    ax.set_xlabel(\"Threshold\")\n",
        "    ax.set_ylabel(\"Metric\")\n",
        "    ax.set_title(\"TPR Curve\")\n",
        "    ax.legend()\n",
        "\n",
        "    return fig\n",
        "\n",
        "\n",
        "def roc_curve(y_true: Iterable, scores: Iterable) -> Figure:\n",
        "    fig, ax = plt.subplots()\n",
        "\n",
        "    fpr, tpr, thresholds = sk_roc_curve(y_true, scores)\n",
        "    ax.plot(fpr, tpr)\n",
        "    ax.plot([0, 1], [0, 1], color=\"gray\", linestyle=\"--\", label=\"Baseline\")\n",
        "    ax.set_xlim((0, 1))\n",
        "    ax.set_ylim((0, 1))\n",
        "    ax.set_xlabel(\"False Positive Rate\")\n",
        "    ax.set_ylabel(\"True Positive Rate\")\n",
        "    ax.set_title(\"ROC Curve\")\n",
        "    ax.legend()\n",
        "\n",
        "    return fig"
      ],
      "execution_count": 69,
      "outputs": []
    },
    {
      "cell_type": "code",
      "metadata": {
        "colab": {
          "base_uri": "https://localhost:8080/"
        },
        "id": "jOzpmNupchGm",
        "outputId": "b29ab12a-52a9-41f1-d543-f13471546315"
      },
      "source": [
        "from sklearn.metrics import precision_recall_curve, classification_report, roc_auc_score, average_precision_score, f1_score\n",
        "auROC = roc_auc_score(test['target'], predictions)\n",
        "print(auROC)"
      ],
      "execution_count": 71,
      "outputs": [
        {
          "output_type": "stream",
          "name": "stdout",
          "text": [
            "0.5\n"
          ]
        }
      ]
    },
    {
      "cell_type": "code",
      "metadata": {
        "colab": {
          "base_uri": "https://localhost:8080/",
          "height": 1000
        },
        "id": "UeMxh6d4DZAm",
        "outputId": "8954c738-8cfb-4fb7-9d3a-bc08f53395cb"
      },
      "source": [
        "# Actually make plots\n",
        "\n",
        "pr_curve(test['target'], predictions)\n",
        "tpr_curve(test['target'], predictions)\n",
        "roc_curve(test['target'], predictions)"
      ],
      "execution_count": 70,
      "outputs": [
        {
          "output_type": "execute_result",
          "data": {
            "image/png": "[encoded data removed]",
            "text/plain": [
              "<Figure size 432x288 with 1 Axes>"
            ]
          },
          "metadata": {},
          "execution_count": 70
        },
        {
          "output_type": "display_data",
          "data": {
            "image/png": "[encoded data removed]",
            "text/plain": [
              "<Figure size 432x288 with 1 Axes>"
            ]
          },
          "metadata": {
            "needs_background": "light"
          }
        },
        {
          "output_type": "display_data",
          "data": {
            "image/png": "[encoded data removed]",
            "text/plain": [
              "<Figure size 432x288 with 1 Axes>"
            ]
          },
          "metadata": {
            "needs_background": "light"
          }
        },
        {
          "output_type": "display_data",
          "data": {
            "image/png": "[encoded data removed]",
            "text/plain": [
              "<Figure size 432x288 with 1 Axes>"
            ]
          },
          "metadata": {
            "needs_background": "light"
          }
        }
      ]
    }
  ]
}