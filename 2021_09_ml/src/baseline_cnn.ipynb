{
  "nbformat": 4,
  "nbformat_minor": 0,
  "metadata": {
    "colab": {
      "name": "baseline_cnn.ipynb",
      "provenance": [],
      "collapsed_sections": [],
      "include_colab_link": true
    },
    "kernelspec": {
      "display_name": "Python 3",
      "name": "python3"
    },
    "language_info": {
      "name": "python"
    }
  },
  "cells": [
    {
      "cell_type": "markdown",
      "metadata": {
        "id": "view-in-github",
        "colab_type": "text"
      },
      "source": [
        "<a href=\"https://colab.research.google.com/github/merkhaiburch/hackathons/blob/main/2021_09_ml/src/baseline_cnn.ipynb\" target=\"_parent\"><img src=\"https://colab.research.google.com/assets/colab-badge.svg\" alt=\"Open In Colab\"/></a>"
      ]
    },
    {
      "cell_type": "markdown",
      "metadata": {
        "id": "OTC1D9CRTem-"
      },
      "source": [
        "Training a baseline CNN on ATATCseq peaks cis to genes to predict v4 expression in B73. Using raw expression from the max across-tissue Giri cis-HARE expression and potentially the Kremling 7-tissue dataset.\n",
        "\n",
        "We will use DanQ and/or DeepSEA\n",
        "\n",
        "\n",
        "Tasks to Do\n",
        "* Create padded sequences\n",
        "* Create an un-padded sequences\n",
        "* Connect sequences to expression data\n",
        "* One hot encode DNA sequences\n",
        "* Create training and test sets\n",
        "* Create two models\n",
        "        DeepSea if time\n",
        "        DanQ\n",
        "* Fit model object with training data set\n",
        "* Calculate ROC between models"
      ]
    },
    {
      "cell_type": "markdown",
      "metadata": {
        "id": "y76rh1K5RPGn"
      },
      "source": [
        "Import libraries"
      ]
    },
    {
      "cell_type": "code",
      "metadata": {
        "id": "20gouXbmUw8H"
      },
      "source": [
        "import tensorflow as tf\n",
        "from tensorflow import keras\n",
        "from keras import datasets, layers, models\n",
        "import matplotlib.pyplot as plt\n",
        "import pandas as pd\n",
        "from google.colab import drive\n",
        "import numpy as np"
      ],
      "execution_count": 92,
      "outputs": []
    },
    {
      "cell_type": "code",
      "metadata": {
        "colab": {
          "base_uri": "https://localhost:8080/"
        },
        "id": "gV63fiG9WATm",
        "outputId": "a9d0e3da-d779-4a29-e469-321ffa708a8a"
      },
      "source": [
        "# Mount drive to find data\n",
        "drive.mount('/content/drive')\n"
      ],
      "execution_count": 93,
      "outputs": [
        {
          "output_type": "stream",
          "name": "stdout",
          "text": [
            "Drive already mounted at /content/drive; to attempt to forcibly remount, call drive.mount(\"/content/drive\", force_remount=True).\n"
          ]
        }
      ]
    },
    {
      "cell_type": "markdown",
      "metadata": {
        "id": "GzaCANQmRwv_"
      },
      "source": [
        "### Import seqeunce information and expression data"
      ]
    },
    {
      "cell_type": "code",
      "metadata": {
        "id": "acjKxqeeR2ZX"
      },
      "source": [
        "# path where data lives on drive\n",
        "data_path = '/content/drive/MyDrive/HackTravis_Sept2021'\n",
        "\n",
        "# Import expression data\n",
        "genes = pd.read_csv((data_path +\"/Expression_Datasets/exp_b73_max_cis_trans_model.csv\"))\n",
        "\n",
        "# import atac-seq peak seqeunce\n",
        "atac_10k = pd.read_csv((data_path + \"/Regulatory_DNA/single_peak_cutoff_250.tsv\"), sep = '\\t')\n",
        "\n",
        "# combine atac and expression data\n",
        "exp_atac = genes.merge(atac_10k, left_on='v4_gene', right_on='gene')"
      ],
      "execution_count": 94,
      "outputs": []
    },
    {
      "cell_type": "code",
      "metadata": {
        "colab": {
          "base_uri": "https://localhost:8080/",
          "height": 282
        },
        "id": "rlNUj51LWI2d",
        "outputId": "1f6afc3e-7df5-4815-8ff9-24bed1513062"
      },
      "source": [
        "# Plot expression histogram\n",
        "n, bins, patches = plt.hist(genes[\"max_cis_rna_value\"], 10000, density=True, facecolor='g', alpha=0.75)\n",
        "plt.xlim(0,50)\n",
        "genes.describe()\n",
        "(genes[\"max_cis_rna_value\"] == 0).sum()"
      ],
      "execution_count": 95,
      "outputs": [
        {
          "output_type": "execute_result",
          "data": {
            "text/plain": [
              "16127"
            ]
          },
          "metadata": {},
          "execution_count": 95
        },
        {
          "output_type": "display_data",
          "data": {
            "image/png": "[encoded data removed]",
            "text/plain": [
              "<Figure size 432x288 with 1 Axes>"
            ]
          },
          "metadata": {
            "needs_background": "light"
          }
        }
      ]
    },
    {
      "cell_type": "code",
      "metadata": {
        "id": "FSZPN3jcX-MC"
      },
      "source": [
        "# If genes > 0 --> expressed/TRUE, if <= 0 --> notExpressed/FALSE\n",
        "exp_atac[\"expressed\"] = np.where(exp_atac[\"max_cis_rna_value\"] > 0, 0, 1)\n",
        "\n",
        "# Drop extra columns\n",
        "exp_atac = exp_atac[[\"v4_gene\", \"DNA\", \"expressed\"]]\n",
        "\n",
        "# rename columns\n",
        "exp_atac.columns = [\"gene\", \"seq\", \"target\"]"
      ],
      "execution_count": 96,
      "outputs": []
    },
    {
      "cell_type": "markdown",
      "metadata": {
        "id": "pzcv4_xgeUL9"
      },
      "source": [
        "### Test to see if the model is learning anything by adding random seqeunce onto all expressed genes"
      ]
    },
    {
      "cell_type": "code",
      "metadata": {
        "colab": {
          "base_uri": "https://localhost:8080/"
        },
        "id": "jNuwJwXlhVLQ",
        "outputId": "44d3583b-931a-40d2-abf2-87f864eece5b"
      },
      "source": [
        "temp = exp_atac.loc[exp_atac['target'] == 1, 'seq'].apply(lambda s: ''.join([\"T\"] * 20) + s[20:])\n",
        "print(temp)"
      ],
      "execution_count": 97,
      "outputs": [
        {
          "output_type": "stream",
          "name": "stdout",
          "text": [
            "0       TTTTTTTTTTTTTTTTTTTTTCCGTGCCGGGTAAACCGCCTACAAA...\n",
            "1       TTTTTTTTTTTTTTTTTTTTGCGTGGACAAAAGCGGCAGCAGGAAA...\n",
            "2       TTTTTTTTTTTTTTTTTTTTGCCACGCACCTCGCCACCAGAAATTT...\n",
            "3       TTTTTTTTTTTTTTTTTTTTGCAAATGAACCTCACTCAGATCGGAG...\n",
            "4       TTTTTTTTTTTTTTTTTTTTGCAAATGAACCTCACTCAGATCGGAG...\n",
            "                              ...                        \n",
            "5361    TTTTTTTTTTTTTTTTTTTTAAACATGGTCTATTCTTGTCAAAACG...\n",
            "5362    TTTTTTTTTTTTTTTTTTTTGGCGCGGAGCTTGAACTACAGGACGC...\n",
            "5365    TTTTTTTTTTTTTTTTTTTTATACAGAATAAAATGGTTCAATGTCT...\n",
            "5369    TTTTTTTTTTTTTTTTTTTTCGAAACGAAACCAAACCCTACCGGTC...\n",
            "5373    TTTTTTTTTTTTTTTTTTTTCGAATTTAAAAAAATAAGAAAATTAA...\n",
            "Name: seq, Length: 1969, dtype: object\n"
          ]
        }
      ]
    },
    {
      "cell_type": "code",
      "metadata": {
        "id": "8M4z4Wt6it_b"
      },
      "source": [
        "exp_atac.loc[exp_atac['target'] == 1, 'seq'] = temp"
      ],
      "execution_count": 98,
      "outputs": []
    },
    {
      "cell_type": "code",
      "metadata": {
        "colab": {
          "base_uri": "https://localhost:8080/",
          "height": 359
        },
        "id": "NEKp-PVci4Eq",
        "outputId": "b3ff97a3-21d7-426b-8e31-879e7acc998c"
      },
      "source": [
        "exp_atac.sample(10)"
      ],
      "execution_count": 99,
      "outputs": [
        {
          "output_type": "execute_result",
          "data": {
            "text/html": [
              "<div>\n",
              "<style scoped>\n",
              "    .dataframe tbody tr th:only-of-type {\n",
              "        vertical-align: middle;\n",
              "    }\n",
              "\n",
              "    .dataframe tbody tr th {\n",
              "        vertical-align: top;\n",
              "    }\n",
              "\n",
              "    .dataframe thead th {\n",
              "        text-align: right;\n",
              "    }\n",
              "</style>\n",
              "<table border=\"1\" class=\"dataframe\">\n",
              "  <thead>\n",
              "    <tr style=\"text-align: right;\">\n",
              "      <th></th>\n",
              "      <th>gene</th>\n",
              "      <th>seq</th>\n",
              "      <th>target</th>\n",
              "    </tr>\n",
              "  </thead>\n",
              "  <tbody>\n",
              "    <tr>\n",
              "      <th>788</th>\n",
              "      <td>Zm00001d019044</td>\n",
              "      <td>CACTTGGCAAAGAGCCGAATTCCGGTAGTGAGTATCAGCTATTGCG...</td>\n",
              "      <td>0</td>\n",
              "    </tr>\n",
              "    <tr>\n",
              "      <th>2851</th>\n",
              "      <td>Zm00001d028656</td>\n",
              "      <td>GCCCACACTTGAGCTATAGAAGGGACTGAGAAACTTTCATTTTACA...</td>\n",
              "      <td>0</td>\n",
              "    </tr>\n",
              "    <tr>\n",
              "      <th>1349</th>\n",
              "      <td>Zm00001d028539</td>\n",
              "      <td>GAGCGCGCGGTAAAATTCCGACTCCGACGCCCGCCCGCCGCACCAC...</td>\n",
              "      <td>0</td>\n",
              "    </tr>\n",
              "    <tr>\n",
              "      <th>425</th>\n",
              "      <td>Zm00001d016802</td>\n",
              "      <td>TAGTCACTGTACAGTGTACACATCCGCGAAACGGCTCACTCTTCGA...</td>\n",
              "      <td>0</td>\n",
              "    </tr>\n",
              "    <tr>\n",
              "      <th>4081</th>\n",
              "      <td>Zm00001d051314</td>\n",
              "      <td>ACGCGTCCGGAAGGACTGACTGTCCGTCAGCCTGCCTATTTCGGGT...</td>\n",
              "      <td>0</td>\n",
              "    </tr>\n",
              "    <tr>\n",
              "      <th>2723</th>\n",
              "      <td>Zm00001d031311</td>\n",
              "      <td>TTTTTTTTTTTTTTTTTTTTTACAATTGTACAAATTTCGGTTGGCG...</td>\n",
              "      <td>1</td>\n",
              "    </tr>\n",
              "    <tr>\n",
              "      <th>4334</th>\n",
              "      <td>Zm00001d037870</td>\n",
              "      <td>TTTTTTTTTTTTTTTTTTTTTCTAGTTTTCCAGAGGCGAGCCAGGT...</td>\n",
              "      <td>1</td>\n",
              "    </tr>\n",
              "    <tr>\n",
              "      <th>3333</th>\n",
              "      <td>Zm00001d011188</td>\n",
              "      <td>GAGTCAATATAATAATATAGGGTAAAGAATTTTGCTATAAAAAAGA...</td>\n",
              "      <td>0</td>\n",
              "    </tr>\n",
              "    <tr>\n",
              "      <th>4990</th>\n",
              "      <td>Zm00001d048093</td>\n",
              "      <td>TTTTTTTTTTTTTTTTTTTTATGGATTTCTGGCTGCAAAAAGCTGC...</td>\n",
              "      <td>1</td>\n",
              "    </tr>\n",
              "    <tr>\n",
              "      <th>2291</th>\n",
              "      <td>Zm00001d053196</td>\n",
              "      <td>ATTGTCGCGAGCAGATATTTACTATACCCGATCTAAACGCGACCCA...</td>\n",
              "      <td>0</td>\n",
              "    </tr>\n",
              "  </tbody>\n",
              "</table>\n",
              "</div>"
            ],
            "text/plain": [
              "                gene                                                seq  target\n",
              "788   Zm00001d019044  CACTTGGCAAAGAGCCGAATTCCGGTAGTGAGTATCAGCTATTGCG...       0\n",
              "2851  Zm00001d028656  GCCCACACTTGAGCTATAGAAGGGACTGAGAAACTTTCATTTTACA...       0\n",
              "1349  Zm00001d028539  GAGCGCGCGGTAAAATTCCGACTCCGACGCCCGCCCGCCGCACCAC...       0\n",
              "425   Zm00001d016802  TAGTCACTGTACAGTGTACACATCCGCGAAACGGCTCACTCTTCGA...       0\n",
              "4081  Zm00001d051314  ACGCGTCCGGAAGGACTGACTGTCCGTCAGCCTGCCTATTTCGGGT...       0\n",
              "2723  Zm00001d031311  TTTTTTTTTTTTTTTTTTTTTACAATTGTACAAATTTCGGTTGGCG...       1\n",
              "4334  Zm00001d037870  TTTTTTTTTTTTTTTTTTTTTCTAGTTTTCCAGAGGCGAGCCAGGT...       1\n",
              "3333  Zm00001d011188  GAGTCAATATAATAATATAGGGTAAAGAATTTTGCTATAAAAAAGA...       0\n",
              "4990  Zm00001d048093  TTTTTTTTTTTTTTTTTTTTATGGATTTCTGGCTGCAAAAAGCTGC...       1\n",
              "2291  Zm00001d053196  ATTGTCGCGAGCAGATATTTACTATACCCGATCTAAACGCGACCCA...       0"
            ]
          },
          "metadata": {},
          "execution_count": 99
        }
      ]
    },
    {
      "cell_type": "markdown",
      "metadata": {
        "id": "5f7qZ5-Mqw7J"
      },
      "source": [
        "Look at dataset:\n",
        "- are there an equal number of expressed and non expressed genes? --> more unexpressed than expressed\n",
        "- What is the correlation in gene expression and the # of atacseq peaks? --> dont have the right data yet"
      ]
    },
    {
      "cell_type": "code",
      "metadata": {
        "colab": {
          "base_uri": "https://localhost:8080/"
        },
        "id": "8buPOa2Mqk_f",
        "outputId": "a3f24b70-bf26-4d7b-8d78-839e150011cb"
      },
      "source": [
        "# Count number of expressed and non-expressed genes\n",
        "print(\"Number of un-expressed genes:\", (exp_atac[\"target\"] == 0).sum())\n",
        "print(\"Number of expressed genes:\", (exp_atac[\"target\"] == 1).sum())"
      ],
      "execution_count": 100,
      "outputs": [
        {
          "output_type": "stream",
          "name": "stdout",
          "text": [
            "Number of un-expressed genes: 3406\n",
            "Number of expressed genes: 1969\n"
          ]
        }
      ]
    },
    {
      "cell_type": "markdown",
      "metadata": {
        "id": "uGzDuDpBSUpK"
      },
      "source": [
        "### Split training, validation, test data based on the Washburn 2019 gene families using a 80, 10, 10 split."
      ]
    },
    {
      "cell_type": "code",
      "metadata": {
        "colab": {
          "base_uri": "https://localhost:8080/"
        },
        "id": "cvwXIPbKSb5J",
        "outputId": "930f2358-81bc-480e-df58-79a9f64a2d29"
      },
      "source": [
        "# load in data\n",
        "washburn = pd.read_csv((data_path +\"/washburn_training_test_v4_unexpressed_v_expressed.csv\"))\n",
        "\n",
        "# drop extra column\n",
        "washburn = washburn[[\"v4\", \"family_index\"]]\n",
        "\n",
        "# create train and test indicies\n",
        "from sklearn.model_selection import GroupShuffleSplit\n",
        "train_inds, test_inds = next(GroupShuffleSplit(test_size=.20, n_splits=2, random_state = 7).split(washburn, groups=washburn['family_index']))\n",
        "\n",
        "# Split data 80:20\n",
        "train = washburn.iloc[train_inds]\n",
        "test = washburn.iloc[test_inds]\n",
        "\n",
        "# Split test into a test and validation (0:10)\n",
        "test2_inds, validation_inds = next(GroupShuffleSplit(test_size=.5, n_splits=2, random_state = 7).split(test, groups=test['family_index']))\n",
        "\n",
        "test2 = test.iloc[test2_inds]\n",
        "validation = test.iloc[validation_inds]\n",
        "\n",
        "# Print out dimensions of training and test data\n",
        "print(train.shape, test2.shape, validation.shape)"
      ],
      "execution_count": 101,
      "outputs": [
        {
          "output_type": "stream",
          "name": "stdout",
          "text": [
            "(27984, 2) (3652, 2) (2720, 2)\n"
          ]
        }
      ]
    },
    {
      "cell_type": "markdown",
      "metadata": {
        "id": "Q71s-jeOezIa"
      },
      "source": [
        "Merge training, test, and validation with sequence information"
      ]
    },
    {
      "cell_type": "code",
      "metadata": {
        "colab": {
          "base_uri": "https://localhost:8080/"
        },
        "id": "LEN0B8uZe54G",
        "outputId": "04eb9101-6423-4ba9-c350-aed00d72e89f"
      },
      "source": [
        "train = train.merge(exp_atac, left_on= 'v4', right_on= 'gene')\n",
        "test = test2.merge(exp_atac, left_on= 'v4', right_on= 'gene')\n",
        "validation = validation.merge(exp_atac, left_on= 'v4', right_on= 'gene')\n",
        "\n",
        "# Remove extra columns across files\n",
        "train = train[['seq', 'target']]\n",
        "test = test[['seq', 'target']]\n",
        "validation = validation[['seq', 'target']]\n",
        "\n",
        "print(train.shape, test.shape, validation.shape)\n",
        "print(train)"
      ],
      "execution_count": 102,
      "outputs": [
        {
          "output_type": "stream",
          "name": "stdout",
          "text": [
            "(4958, 2) (627, 2) (488, 2)\n",
            "                                                    seq  target\n",
            "0     TTTTTTTTTTTTTTTTTTTTTCCGTGCCGGGTAAACCGCCTACAAA...       1\n",
            "1     TTTTTTTTTTTTTTTTTTTTGCCACGCACCTCGCCACCAGAAATTT...       1\n",
            "2     TTTTTTTTTTTTTTTTTTTTAAATCCAAAAACCCGACCCGAAATAT...       1\n",
            "3     TTTTTTTTTTTTTTTTTTTTGGCGTCTGCATCTGCATGCGTTGTTG...       1\n",
            "4     TTTTTTTTTTTTTTTTTTTTTGTCGAAGGGTCCTTGTCGAACGCCA...       1\n",
            "...                                                 ...     ...\n",
            "4953  TCGTCAACGACGAAGACTAGAATGCACTAGATGGATCCATTAGTAG...       0\n",
            "4954  GGGCCGTTTCGAAGCCTATATAAGAAAAATAAAGAAAAAGGCCGTT...       0\n",
            "4955  TCACCTGCTTCCTGTACCGCGTCGTTGCTTCTGTAGCTGCCCACAA...       0\n",
            "4956  TTTTTTTTTTTTTTTTTTTTCGAATTTAAAAAAATAAGAAAATTAA...       1\n",
            "4957  TGTTGCTACTTCTACAGGACCACCTTCGAAGGCAGTTTACGCTTTC...       0\n",
            "\n",
            "[4958 rows x 2 columns]\n"
          ]
        }
      ]
    },
    {
      "cell_type": "markdown",
      "metadata": {
        "id": "2iYPpGjM_X_M"
      },
      "source": [
        "### DanQ model setup"
      ]
    },
    {
      "cell_type": "code",
      "metadata": {
        "colab": {
          "base_uri": "https://localhost:8080/"
        },
        "id": "_ks24vDhA6cv",
        "outputId": "08232a86-2b56-41c3-be5b-ca27e4a0e057"
      },
      "source": [
        "# Create intervals, one hot encode them, return. Inputs: pandas dataframe with sequence and target data (expression)\n",
        "# Taken from: https://bitbucket.org/bucklerlab/a2z-regulatory/src/master/src/python/a2z/a2z/data/__init__.py\n",
        "import logging\n",
        "from math import ceil\n",
        "from typing import Optional, Dict\n",
        "\n",
        "!pip install Bio\n",
        "from Bio import Seq\n",
        "import numpy as np\n",
        "import pandas as pd\n",
        "from tensorflow import keras as k\n",
        "\n",
        "\n",
        "BASE_1HOT = {\n",
        "    \"A\": np.array([1, 0, 0, 0]),\n",
        "    \"C\": np.array([0, 1, 0, 0]),\n",
        "    \"G\": np.array([0, 0, 1, 0]),\n",
        "    \"T\": np.array([0, 0, 0, 1]),\n",
        "    \"W\": np.array([0.5, 0, 0, 0.5]),\n",
        "    \"S\": np.array([0, 0.5, 0.5, 0]),\n",
        "    \"M\": np.array([0.5, 0.5, 0, 0]),\n",
        "    \"K\": np.array([0, 0, 0.5, 0.5]),\n",
        "    \"R\": np.array([0.5, 0, 0.5, 0]),\n",
        "    \"Y\": np.array([0, 0.5, 0, 0.5]),\n",
        "    \"B\": np.array([0, 1.0 / 3, 1.0 / 3, 1.0 / 3]),\n",
        "    \"D\": np.array([1.0 / 3, 0, 1.0 / 3, 1.0 / 3]),\n",
        "    \"H\": np.array([1.0 / 3, 1.0 / 3, 0, 1.0 / 3]),\n",
        "    \"V\": np.array([1.0 / 3, 1.0 / 3, 1.0 / 3, 0]),\n",
        "    \"N\": np.array([0.25, 0.25, 0.25, 0.25]),\n",
        "}\n",
        "\n",
        "\n",
        "def seq_one_hot_encode(seq: str, pad_to: Optional[int] = None):\n",
        "    \"\"\" one-hot encodes a DNA sequence \"\"\"\n",
        "    if pad_to:\n",
        "        encoded = np.zeros(shape=(pad_to, 4))\n",
        "        if len(seq) > pad_to:\n",
        "            seq = seq[:pad_to]\n",
        "    else:\n",
        "        encoded = np.zeros(shape=(len(seq), 4))\n",
        "\n",
        "    for i, base in enumerate(seq.upper()):\n",
        "        try:\n",
        "            encoded[i, :] = BASE_1HOT[base]\n",
        "        except KeyError:\n",
        "            logging.error(\n",
        "                f\"Unrecognized base encountered during one-hot \" f\"encoding: '{base}'\"\n",
        "            )\n",
        "    return encoded\n",
        "\n",
        "class IntervalDataset(k.utils.Sequence):\n",
        "    def __init__(self, intervals_df: pd.DataFrame, batch_size = 128, pad_to = None, no_target = False):\n",
        "        self._df = intervals_df\n",
        "        self.batch_size = batch_size\n",
        "        self.pad_to = pad_to\n",
        "        self.no_target = no_target\n",
        "\n",
        "    def __len__(self):\n",
        "        return ceil(len(self._df) / self.batch_size)\n",
        "\n",
        "    def __getitem__(self, idx: int):\n",
        "        batch_start_idx = idx * self.batch_size\n",
        "        batch_intervals = self._df.iloc[batch_start_idx : batch_start_idx + self.batch_size]\n",
        "        try:\n",
        "            x = np.stack([seq_one_hot_encode(seq, self.pad_to) for seq in batch_intervals['seq']])\n",
        "        except ValueError as e:\n",
        "            logging.error(\"ValueError encountered while trying to one-hot encode sequence batches, are all of your sequences the same length?\")\n",
        "            raise e\n",
        "        if self.no_target:\n",
        "            y = None\n",
        "        else:\n",
        "            y = np.expand_dims(batch_intervals['target'].to_numpy(), axis = 1)\n",
        "\n",
        "        return (x, y)\n"
      ],
      "execution_count": 103,
      "outputs": [
        {
          "output_type": "stream",
          "name": "stdout",
          "text": [
            "Requirement already satisfied: Bio in /usr/local/lib/python3.7/dist-packages (0.8.9)\n",
            "Requirement already satisfied: plac in /usr/local/lib/python3.7/dist-packages (from Bio) (1.1.3)\n",
            "Requirement already satisfied: mygene in /usr/local/lib/python3.7/dist-packages (from Bio) (3.2.2)\n",
            "Requirement already satisfied: tqdm>=4.62 in /usr/local/lib/python3.7/dist-packages (from Bio) (4.62.0)\n",
            "Requirement already satisfied: requests in /usr/local/lib/python3.7/dist-packages (from Bio) (2.23.0)\n",
            "Requirement already satisfied: biopython>=1.79 in /usr/local/lib/python3.7/dist-packages (from Bio) (1.79)\n",
            "Requirement already satisfied: numpy in /usr/local/lib/python3.7/dist-packages (from biopython>=1.79->Bio) (1.19.5)\n",
            "Requirement already satisfied: biothings-client>=0.2.6 in /usr/local/lib/python3.7/dist-packages (from mygene->Bio) (0.2.6)\n",
            "Requirement already satisfied: idna<3,>=2.5 in /usr/local/lib/python3.7/dist-packages (from requests->Bio) (2.10)\n",
            "Requirement already satisfied: chardet<4,>=3.0.2 in /usr/local/lib/python3.7/dist-packages (from requests->Bio) (3.0.4)\n",
            "Requirement already satisfied: certifi>=2017.4.17 in /usr/local/lib/python3.7/dist-packages (from requests->Bio) (2021.5.30)\n",
            "Requirement already satisfied: urllib3!=1.25.0,!=1.25.1,<1.26,>=1.21.1 in /usr/local/lib/python3.7/dist-packages (from requests->Bio) (1.24.3)\n"
          ]
        }
      ]
    },
    {
      "cell_type": "code",
      "metadata": {
        "id": "0EQPSOQE_awW"
      },
      "source": [
        "# create interval refernces (sequence and target --> character DNA and target DNA seqeunce)\n",
        "# taken from: https://bitbucket.org/bucklerlab/a2z-regulatory/src/master/results/2020-11-13_fig1/train.py\n",
        "training_data = IntervalDataset(train)\n",
        "validation_data = IntervalDataset(validation)\n",
        "test_data = IntervalDataset(test)"
      ],
      "execution_count": 104,
      "outputs": []
    },
    {
      "cell_type": "markdown",
      "metadata": {
        "id": "SZLJHU6U5evb"
      },
      "source": [
        "### Build DanQ model"
      ]
    },
    {
      "cell_type": "code",
      "metadata": {
        "id": "r3CXCMOnVDhQ"
      },
      "source": [
        "import imp\n",
        "import tensorflow.keras.layers as kl\n",
        "\n",
        "def build_DanQ(window_size: int = 300, conv_activation = 'relu') -> keras.Model:\n",
        "    DanQ = keras.Sequential([\n",
        "        kl.Conv1D(320, 26, activation = conv_activation, input_shape = (window_size, 4)),\n",
        "        kl.Dropout(0.2),\n",
        "        kl.MaxPool1D(13, 13),\n",
        "        kl.Bidirectional(kl.LSTM(320)),\n",
        "        kl.Dropout(0.5),\n",
        "        kl.Dense(925),\n",
        "        kl.Dense(1, activation = 'sigmoid')\n",
        "        ], name = \"DanQ\")\n",
        "    return DanQ\n",
        "\n",
        "# Build DanQ model\n",
        "model = build_DanQ(250)\n",
        "\n",
        "# Change learning rate\n",
        "from keras import metrics\n",
        "optimizer = keras.optimizers.Adam(learning_rate=10)\n",
        "model.compile(loss='BCE',\n",
        "              optimizer=optimizer, \n",
        "              metrics=['accuracy'])"
      ],
      "execution_count": 105,
      "outputs": []
    },
    {
      "cell_type": "markdown",
      "metadata": {
        "id": "F9zhWDe4UXck"
      },
      "source": [
        "### Fit DanQ model to out data"
      ]
    },
    {
      "cell_type": "code",
      "metadata": {
        "id": "mbkiYUIBT0y_"
      },
      "source": [
        "# Set parameters\n",
        "validation_freq = 1\n",
        "epochs = 13\n",
        "\n",
        "# Fit model\n",
        "train_history = model.fit(\n",
        "    training_data,\n",
        "    validation_data = validation_data,\n",
        "    validation_freq = validation_freq,\n",
        "    epochs = epochs,\n",
        "    workers = 1,\n",
        "    verbose = 0)"
      ],
      "execution_count": null,
      "outputs": []
    },
    {
      "cell_type": "markdown",
      "metadata": {
        "id": "0rCTR4vRIW-1"
      },
      "source": [
        "### Look at model prediction accuracy"
      ]
    },
    {
      "cell_type": "code",
      "metadata": {
        "id": "r36EGXS5IWDu"
      },
      "source": [
        "# summarize history for accuracy\n",
        "plt.plot(train_history.history['accuracy'])\n",
        "plt.plot(train_history.history['val_accuracy'])\n",
        "plt.title('model accuracy')\n",
        "plt.ylabel('accuracy')\n",
        "plt.xlabel('epoch')\n",
        "plt.legend(['train', 'test'], loc='upper left')\n",
        "plt.show()\n",
        "\n",
        "# plot training curves --> loss vs epoch\n",
        "fig, ax = plt.subplots()\n",
        "ax.plot(train_history.epoch, train_history.history['loss'], color = 'orange', label = 'Training')\n",
        "ax.plot(np.arange(validation_freq - 1, epochs, validation_freq), train_history.history['val_loss'], color = 'lightblue', label = 'Validation')\n",
        "ax.set_xlabel('Epoch')\n",
        "ax.set_ylabel(f\"Loss ({model.loss})\")\n",
        "ax.set_title(f\"{model.name} Training Curve\")\n",
        "ax.legend()"
      ],
      "execution_count": null,
      "outputs": []
    },
    {
      "cell_type": "markdown",
      "metadata": {
        "id": "tY7LVwfpw5JG"
      },
      "source": [
        "### Look at model predictions with test set"
      ]
    },
    {
      "cell_type": "code",
      "metadata": {
        "id": "v8uTzv32w4T0"
      },
      "source": [
        "# Generate predictions (probabilities -- the output of the last layer)\n",
        "# on new data using `predict`\n",
        "print(\"Generate predictions\")\n",
        "predictions = model.predict(test_data)\n",
        "\n",
        "# plot predictions vs actual data\n",
        "import matplotlib.pyplot as plt\n",
        "plt.scatter(test['target'], predictions)\n",
        "plt.xlabel('Observed Expression')\n",
        "plt.ylabel(\"Predicted Expression\")\n",
        "plt.title(\"Predicted vs Observed max-HARE Expression\")"
      ],
      "execution_count": null,
      "outputs": []
    },
    {
      "cell_type": "markdown",
      "metadata": {
        "id": "GdYfq54edsyu"
      },
      "source": [
        "Calculate a single value to describe the AuROC"
      ]
    },
    {
      "cell_type": "code",
      "metadata": {
        "id": "28qWcKMEcaMY"
      },
      "source": [
        " auROC = roc_auc_score(y, y_hat)"
      ],
      "execution_count": null,
      "outputs": []
    },
    {
      "cell_type": "markdown",
      "metadata": {
        "id": "fmYQOSSO4_4m"
      },
      "source": [
        "Create ROC, PR, and TPR curves.\n",
        "\n",
        "Taken from: https://bitbucket.org/bucklerlab/a2z-regulatory/src/master/src/python/a2z/a2z/plots.py"
      ]
    },
    {
      "cell_type": "code",
      "metadata": {
        "id": "fqMX9oYi5B73"
      },
      "source": [
        "from collections import Counter\n",
        "from typing import Iterable\n",
        "\n",
        "import numpy as np\n",
        "from matplotlib.figure import Figure\n",
        "from matplotlib.patches import FancyBboxPatch\n",
        "import matplotlib.pyplot as plt\n",
        "from sklearn.metrics import precision_recall_curve, f1_score\n",
        "from sklearn.metrics import roc_curve as sk_roc_curve\n",
        "\n",
        "def pr_curve(y_true: Iterable, scores: Iterable) -> Figure:\n",
        "    fig, ax = plt.subplots()\n",
        "\n",
        "    # determine baseline\n",
        "    true_cnt = Counter(y_true)\n",
        "    n = sum(true_cnt.values())\n",
        "    n_true = true_cnt[1]\n",
        "    base_y = n_true / n\n",
        "\n",
        "    precision, recall, thresholds = precision_recall_curve(y_true, scores)\n",
        "    ax.plot(recall, precision)\n",
        "    ax.plot([0, 1], [base_y] * 2, color=\"gray\", linestyle=\"--\", label=\"Baseline\")\n",
        "    ax.set_xlim((0, 1))\n",
        "    ax.set_ylim((0, 1))\n",
        "    ax.set_xlabel(\"Recall\")\n",
        "    ax.set_ylabel(\"Precision\")\n",
        "    ax.set_title(\"PR Curve\")\n",
        "    ax.legend()\n",
        "\n",
        "    return fig\n",
        "\n",
        "\n",
        "def tpr_curve(y_true: Iterable, scores: Iterable) -> Figure:\n",
        "    \"\"\" F1 baseline credit: https://stats.stackexchange.com/questions/390200/what-is-the-baseline-of-the-f1-score-for-a-binary-classifier  \"\"\"\n",
        "    fig, ax = plt.subplots()\n",
        "\n",
        "    # determine baseline\n",
        "    true_cnt = Counter(y_true)\n",
        "    n = sum(true_cnt.values())\n",
        "    n_true = true_cnt[1]\n",
        "    base_y = n_true / n\n",
        "\n",
        "    precision, recall, thresholds = precision_recall_curve(y_true, scores)\n",
        "    f1 = 2 * ((precision * recall) / (precision + recall))\n",
        "    f1_baseline = (2 * base_y) / (base_y + 1)\n",
        "    ax.plot(thresholds, precision[:-1], label = \"Precision\")\n",
        "    ax.plot(thresholds, recall[:-1], label = \"Recall\")\n",
        "    ax.plot(thresholds, f1[:-1], label = \"F1 Score\")\n",
        "    ax.plot([0, 1], [base_y] * 2, color=\"gray\", linestyle=\"--\", label=\"Precision Baseline\")\n",
        "    ax.plot([0, 1], [f1_baseline] * 2, color=\"lightgray\", linestyle = \"--\", label=\"F1 Baseline\")\n",
        "    ax.set_xlim((0, 1))\n",
        "    ax.set_ylim((0, 1))\n",
        "    ax.set_xlabel(\"Threshold\")\n",
        "    ax.set_ylabel(\"Metric\")\n",
        "    ax.set_title(\"TPR Curve\")\n",
        "    ax.legend()\n",
        "\n",
        "    return fig\n",
        "\n",
        "\n",
        "def roc_curve(y_true: Iterable, scores: Iterable) -> Figure:\n",
        "    fig, ax = plt.subplots()\n",
        "\n",
        "    fpr, tpr, thresholds = sk_roc_curve(y_true, scores)\n",
        "    ax.plot(fpr, tpr)\n",
        "    ax.plot([0, 1], [0, 1], color=\"gray\", linestyle=\"--\", label=\"Baseline\")\n",
        "    ax.set_xlim((0, 1))\n",
        "    ax.set_ylim((0, 1))\n",
        "    ax.set_xlabel(\"False Positive Rate\")\n",
        "    ax.set_ylabel(\"True Positive Rate\")\n",
        "    ax.set_title(\"ROC Curve\")\n",
        "    ax.legend()\n",
        "\n",
        "    return fig"
      ],
      "execution_count": null,
      "outputs": []
    },
    {
      "cell_type": "code",
      "metadata": {
        "id": "jOzpmNupchGm"
      },
      "source": [
        "from sklearn.metrics import precision_recall_curve, classification_report, roc_auc_score, average_precision_score, f1_score\n",
        "auROC = roc_auc_score(test['target'], predictions)\n",
        "print(auROC)"
      ],
      "execution_count": null,
      "outputs": []
    },
    {
      "cell_type": "code",
      "metadata": {
        "id": "UeMxh6d4DZAm"
      },
      "source": [
        "# Make plots\n",
        "\n",
        "pr_curve(test['target'], predictions)\n",
        "tpr_curve(test['target'], predictions)\n",
        "roc_curve(test['target'], predictions)"
      ],
      "execution_count": null,
      "outputs": []
    }
  ]
}