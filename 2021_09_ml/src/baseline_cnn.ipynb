{
  "nbformat": 4,
  "nbformat_minor": 0,
  "metadata": {
    "colab": {
      "name": "baseline_cnn.ipynb",
      "provenance": [],
      "collapsed_sections": [],
      "include_colab_link": true
    },
    "kernelspec": {
      "display_name": "Python 3",
      "name": "python3"
    },
    "language_info": {
      "name": "python"
    }
  },
  "cells": [
    {
      "cell_type": "markdown",
      "metadata": {
        "id": "view-in-github",
        "colab_type": "text"
      },
      "source": [
        "<a href=\"https://colab.research.google.com/github/merkhaiburch/hackathons/blob/main/2021_09_ml/src/baseline_cnn.ipynb\" target=\"_parent\"><img src=\"https://colab.research.google.com/assets/colab-badge.svg\" alt=\"Open In Colab\"/></a>"
      ]
    },
    {
      "cell_type": "markdown",
      "metadata": {
        "id": "OTC1D9CRTem-"
      },
      "source": [
        "Training a baseline CNN on ATATCseq peaks cis to genes to predict v4 expression in B73. Using raw expression from the max across-tissue Giri cis-HARE expression and potentially the Kremling 7-tissue dataset.\n",
        "\n",
        "We will use DanQ and/or DeepSEA\n",
        "\n",
        "\n",
        "Tasks to Do\n",
        "* Create padded sequences\n",
        "* Create an un-padded sequences\n",
        "* Connect sequences to expression data\n",
        "* One hot encode DNA sequences\n",
        "* Create training and test sets\n",
        "* Create two models\n",
        "        DeepSea if time\n",
        "        DanQ\n",
        "* Fit model object with training data set\n",
        "* Calculate ROC between models"
      ]
    },
    {
      "cell_type": "markdown",
      "metadata": {
        "id": "y76rh1K5RPGn"
      },
      "source": [
        "Import libraries"
      ]
    },
    {
      "cell_type": "code",
      "metadata": {
        "id": "20gouXbmUw8H"
      },
      "source": [
        "import tensorflow as tf\n",
        "import matplotlib.pyplot as plt\n",
        "import pandas as pd\n",
        "import numpy as np\n",
        "\n",
        "from sklearn.model_selection import GroupShuffleSplit\n",
        "from tensorflow import keras\n",
        "from keras import datasets, layers, models"
      ],
      "execution_count": 19,
      "outputs": []
    },
    {
      "cell_type": "code",
      "metadata": {
        "colab": {
          "base_uri": "https://localhost:8080/"
        },
        "id": "gV63fiG9WATm",
        "outputId": "e096566d-8b14-40f6-a3b0-326731db798e"
      },
      "source": [
        "# Mount drive to find data\n",
        "from google.colab import drive\n",
        "drive.mount('/content/drive')"
      ],
      "execution_count": 20,
      "outputs": [
        {
          "output_type": "stream",
          "name": "stdout",
          "text": [
            "Drive already mounted at /content/drive; to attempt to forcibly remount, call drive.mount(\"/content/drive\", force_remount=True).\n"
          ]
        }
      ]
    },
    {
      "cell_type": "markdown",
      "metadata": {
        "id": "GzaCANQmRwv_"
      },
      "source": [
        "### Import seqeunce information and expression data"
      ]
    },
    {
      "cell_type": "code",
      "metadata": {
        "id": "acjKxqeeR2ZX",
        "colab": {
          "base_uri": "https://localhost:8080/",
          "height": 419
        },
        "outputId": "bf724314-ca48-4aeb-d9ac-19df60cd5d11"
      },
      "source": [
        "# path where data lives on drive\n",
        "data_path = '/content/drive/MyDrive/HackTravis_Sept2021'\n",
        "\n",
        "# Import expression data\n",
        "genes = pd.read_csv((data_path +\"/Expression_Datasets/exp_b73_max_cis_trans_model.csv\"))\n",
        "\n",
        "# import atac-seq peak seqeunce\n",
        "atac = pd.read_csv((data_path + \"/Regulatory_DNA/single_peak_cutoff_250.tsv\"), sep = '\\t')\n",
        "# atac = pd.read_csv((data_path + \"/Regulatory_DNA/promoter_plus_single_peak.tsv\"), sep = '\\t')\n",
        "\n",
        "\n",
        "# combine atac and expression data\n",
        "exp_atac = genes.merge(atac, left_on='v4_gene', right_on='gene')\n",
        "\n",
        "atac"
      ],
      "execution_count": 21,
      "outputs": [
        {
          "output_type": "execute_result",
          "data": {
            "text/html": [
              "<div>\n",
              "<style scoped>\n",
              "    .dataframe tbody tr th:only-of-type {\n",
              "        vertical-align: middle;\n",
              "    }\n",
              "\n",
              "    .dataframe tbody tr th {\n",
              "        vertical-align: top;\n",
              "    }\n",
              "\n",
              "    .dataframe thead th {\n",
              "        text-align: right;\n",
              "    }\n",
              "</style>\n",
              "<table border=\"1\" class=\"dataframe\">\n",
              "  <thead>\n",
              "    <tr style=\"text-align: right;\">\n",
              "      <th></th>\n",
              "      <th>gene</th>\n",
              "      <th>DNA</th>\n",
              "    </tr>\n",
              "  </thead>\n",
              "  <tbody>\n",
              "    <tr>\n",
              "      <th>0</th>\n",
              "      <td>Zm00001d001771</td>\n",
              "      <td>CTCGTGATAAAATTAAAATGAACTGAGCCGAGTCGTGGCAAACTGA...</td>\n",
              "    </tr>\n",
              "    <tr>\n",
              "      <th>1</th>\n",
              "      <td>Zm00001d001774</td>\n",
              "      <td>CAATTTTTCTCCCCGCACCGCACGCCACGCCACGCCATAATTAAAC...</td>\n",
              "    </tr>\n",
              "    <tr>\n",
              "      <th>2</th>\n",
              "      <td>Zm00001d001776</td>\n",
              "      <td>TTGTCCTAGGGCGCGAGGGGTCGAGAGGGCCCATTGTATTGGGTGC...</td>\n",
              "    </tr>\n",
              "    <tr>\n",
              "      <th>3</th>\n",
              "      <td>Zm00001d001780</td>\n",
              "      <td>TCCCGATTACAGGCATGTCGGTACAAATAAACCAGGAAATATTCCC...</td>\n",
              "    </tr>\n",
              "    <tr>\n",
              "      <th>4</th>\n",
              "      <td>Zm00001d001785</td>\n",
              "      <td>GTCATCAAACCCACGCTTCCAATTCTACTACGGAGGAGAGGTAACG...</td>\n",
              "    </tr>\n",
              "    <tr>\n",
              "      <th>...</th>\n",
              "      <td>...</td>\n",
              "      <td>...</td>\n",
              "    </tr>\n",
              "    <tr>\n",
              "      <th>5767</th>\n",
              "      <td>Zm00001d054072</td>\n",
              "      <td>CCAGCGTACTCCCGTTGCAACGCACGGGCACGCACCTAGTTATACA...</td>\n",
              "    </tr>\n",
              "    <tr>\n",
              "      <th>5768</th>\n",
              "      <td>Zm00001d054073</td>\n",
              "      <td>GCCTGCCCCTGCGTCGCCATGGCCATGGTGTCGACTCTCGACTGTC...</td>\n",
              "    </tr>\n",
              "    <tr>\n",
              "      <th>5769</th>\n",
              "      <td>Zm00001d054074</td>\n",
              "      <td>AAACCTGTATAGAATTTGGAGTCGAAAATCAGGAATGGACAGGCAG...</td>\n",
              "    </tr>\n",
              "    <tr>\n",
              "      <th>5770</th>\n",
              "      <td>Zm00001d054087</td>\n",
              "      <td>AGACGGGGTGGGACGGGACACCGTAGCTGCAGCCGCACGATGAGGA...</td>\n",
              "    </tr>\n",
              "    <tr>\n",
              "      <th>5771</th>\n",
              "      <td>Zm00001d054089</td>\n",
              "      <td>AAAATGCCGCTTTAATTTACTTCGTTCGTTTTTATATCTTTTTTAG...</td>\n",
              "    </tr>\n",
              "  </tbody>\n",
              "</table>\n",
              "<p>5772 rows × 2 columns</p>\n",
              "</div>"
            ],
            "text/plain": [
              "                gene                                                DNA\n",
              "0     Zm00001d001771  CTCGTGATAAAATTAAAATGAACTGAGCCGAGTCGTGGCAAACTGA...\n",
              "1     Zm00001d001774  CAATTTTTCTCCCCGCACCGCACGCCACGCCACGCCATAATTAAAC...\n",
              "2     Zm00001d001776  TTGTCCTAGGGCGCGAGGGGTCGAGAGGGCCCATTGTATTGGGTGC...\n",
              "3     Zm00001d001780  TCCCGATTACAGGCATGTCGGTACAAATAAACCAGGAAATATTCCC...\n",
              "4     Zm00001d001785  GTCATCAAACCCACGCTTCCAATTCTACTACGGAGGAGAGGTAACG...\n",
              "...              ...                                                ...\n",
              "5767  Zm00001d054072  CCAGCGTACTCCCGTTGCAACGCACGGGCACGCACCTAGTTATACA...\n",
              "5768  Zm00001d054073  GCCTGCCCCTGCGTCGCCATGGCCATGGTGTCGACTCTCGACTGTC...\n",
              "5769  Zm00001d054074  AAACCTGTATAGAATTTGGAGTCGAAAATCAGGAATGGACAGGCAG...\n",
              "5770  Zm00001d054087  AGACGGGGTGGGACGGGACACCGTAGCTGCAGCCGCACGATGAGGA...\n",
              "5771  Zm00001d054089  AAAATGCCGCTTTAATTTACTTCGTTCGTTTTTATATCTTTTTTAG...\n",
              "\n",
              "[5772 rows x 2 columns]"
            ]
          },
          "metadata": {},
          "execution_count": 21
        }
      ]
    },
    {
      "cell_type": "code",
      "metadata": {
        "id": "rlNUj51LWI2d"
      },
      "source": [
        "# Plot expression histogram\n",
        "# n, bins, patches = plt.hist(genes[\"max_cis_rna_value\"], 10000, density=True, facecolor='g', alpha=0.75)\n",
        "# plt.xlim(0,50)\n",
        "# genes.describe()\n",
        "# (genes[\"max_cis_rna_value\"] == 0).sum()"
      ],
      "execution_count": 22,
      "outputs": []
    },
    {
      "cell_type": "code",
      "metadata": {
        "id": "FSZPN3jcX-MC",
        "colab": {
          "base_uri": "https://localhost:8080/",
          "height": 419
        },
        "outputId": "cfa4f645-f4c4-4945-d5d8-7c565cc4d87e"
      },
      "source": [
        "# If genes > 0 --> expressed/1, if <= 0 --> notExpressed/0\n",
        "exp_atac[\"expressed\"] = np.where(exp_atac[\"max_cis_rna_value\"] > 0, 0, 1)\n",
        "\n",
        "# Drop extra columns\n",
        "exp_atac = exp_atac[[\"v4_gene\", \"DNA\", \"expressed\"]]\n",
        "\n",
        "\n",
        "# rename columns\n",
        "exp_atac.columns = [\"gene\", \"seq\", \"target\"]\n",
        "exp_atac"
      ],
      "execution_count": 23,
      "outputs": [
        {
          "output_type": "execute_result",
          "data": {
            "text/html": [
              "<div>\n",
              "<style scoped>\n",
              "    .dataframe tbody tr th:only-of-type {\n",
              "        vertical-align: middle;\n",
              "    }\n",
              "\n",
              "    .dataframe tbody tr th {\n",
              "        vertical-align: top;\n",
              "    }\n",
              "\n",
              "    .dataframe thead th {\n",
              "        text-align: right;\n",
              "    }\n",
              "</style>\n",
              "<table border=\"1\" class=\"dataframe\">\n",
              "  <thead>\n",
              "    <tr style=\"text-align: right;\">\n",
              "      <th></th>\n",
              "      <th>gene</th>\n",
              "      <th>seq</th>\n",
              "      <th>target</th>\n",
              "    </tr>\n",
              "  </thead>\n",
              "  <tbody>\n",
              "    <tr>\n",
              "      <th>0</th>\n",
              "      <td>Zm00001d048404</td>\n",
              "      <td>CACGTGCCGACGACCACGCCTCCGTGCCGGGTAAACCGCCTACAAA...</td>\n",
              "      <td>1</td>\n",
              "    </tr>\n",
              "    <tr>\n",
              "      <th>1</th>\n",
              "      <td>Zm00001d048342</td>\n",
              "      <td>ATGGAAATTGTAAAGGGCGCGCGTGGACAAAAGCGGCAGCAGGAAA...</td>\n",
              "      <td>1</td>\n",
              "    </tr>\n",
              "    <tr>\n",
              "      <th>2</th>\n",
              "      <td>Zm00001d048400</td>\n",
              "      <td>ACAAAAGGGTGGACGCGGAAGCCACGCACCTCGCCACCAGAAATTT...</td>\n",
              "      <td>1</td>\n",
              "    </tr>\n",
              "    <tr>\n",
              "      <th>3</th>\n",
              "      <td>Zm00001d039411</td>\n",
              "      <td>TCTCCGCGGATCCGACGGTAGCAAATGAACCTCACTCAGATCGGAG...</td>\n",
              "      <td>1</td>\n",
              "    </tr>\n",
              "    <tr>\n",
              "      <th>4</th>\n",
              "      <td>Zm00001d039411</td>\n",
              "      <td>TCTCCGCGGATCCGACGGTAGCAAATGAACCTCACTCAGATCGGAG...</td>\n",
              "      <td>1</td>\n",
              "    </tr>\n",
              "    <tr>\n",
              "      <th>...</th>\n",
              "      <td>...</td>\n",
              "      <td>...</td>\n",
              "      <td>...</td>\n",
              "    </tr>\n",
              "    <tr>\n",
              "      <th>5370</th>\n",
              "      <td>Zm00001d013809</td>\n",
              "      <td>TCGTCAACGACGAAGACTAGAATGCACTAGATGGATCCATTAGTAG...</td>\n",
              "      <td>0</td>\n",
              "    </tr>\n",
              "    <tr>\n",
              "      <th>5371</th>\n",
              "      <td>Zm00001d011761</td>\n",
              "      <td>GGGCCGTTTCGAAGCCTATATAAGAAAAATAAAGAAAAAGGCCGTT...</td>\n",
              "      <td>0</td>\n",
              "    </tr>\n",
              "    <tr>\n",
              "      <th>5372</th>\n",
              "      <td>Zm00001d029497</td>\n",
              "      <td>TCACCTGCTTCCTGTACCGCGTCGTTGCTTCTGTAGCTGCCCACAA...</td>\n",
              "      <td>0</td>\n",
              "    </tr>\n",
              "    <tr>\n",
              "      <th>5373</th>\n",
              "      <td>Zm00001d009509</td>\n",
              "      <td>GAACAAAATATTTTAAAAAACGAATTTAAAAAAATAAGAAAATTAA...</td>\n",
              "      <td>1</td>\n",
              "    </tr>\n",
              "    <tr>\n",
              "      <th>5374</th>\n",
              "      <td>Zm00001d022386</td>\n",
              "      <td>TGTTGCTACTTCTACAGGACCACCTTCGAAGGCAGTTTACGCTTTC...</td>\n",
              "      <td>0</td>\n",
              "    </tr>\n",
              "  </tbody>\n",
              "</table>\n",
              "<p>5375 rows × 3 columns</p>\n",
              "</div>"
            ],
            "text/plain": [
              "                gene                                                seq  target\n",
              "0     Zm00001d048404  CACGTGCCGACGACCACGCCTCCGTGCCGGGTAAACCGCCTACAAA...       1\n",
              "1     Zm00001d048342  ATGGAAATTGTAAAGGGCGCGCGTGGACAAAAGCGGCAGCAGGAAA...       1\n",
              "2     Zm00001d048400  ACAAAAGGGTGGACGCGGAAGCCACGCACCTCGCCACCAGAAATTT...       1\n",
              "3     Zm00001d039411  TCTCCGCGGATCCGACGGTAGCAAATGAACCTCACTCAGATCGGAG...       1\n",
              "4     Zm00001d039411  TCTCCGCGGATCCGACGGTAGCAAATGAACCTCACTCAGATCGGAG...       1\n",
              "...              ...                                                ...     ...\n",
              "5370  Zm00001d013809  TCGTCAACGACGAAGACTAGAATGCACTAGATGGATCCATTAGTAG...       0\n",
              "5371  Zm00001d011761  GGGCCGTTTCGAAGCCTATATAAGAAAAATAAAGAAAAAGGCCGTT...       0\n",
              "5372  Zm00001d029497  TCACCTGCTTCCTGTACCGCGTCGTTGCTTCTGTAGCTGCCCACAA...       0\n",
              "5373  Zm00001d009509  GAACAAAATATTTTAAAAAACGAATTTAAAAAAATAAGAAAATTAA...       1\n",
              "5374  Zm00001d022386  TGTTGCTACTTCTACAGGACCACCTTCGAAGGCAGTTTACGCTTTC...       0\n",
              "\n",
              "[5375 rows x 3 columns]"
            ]
          },
          "metadata": {},
          "execution_count": 23
        }
      ]
    },
    {
      "cell_type": "code",
      "metadata": {
        "colab": {
          "base_uri": "https://localhost:8080/",
          "height": 265
        },
        "id": "ePaE416E3wH3",
        "outputId": "a9195b87-ca2a-4d89-b9b8-a3331b9341a1"
      },
      "source": [
        "# Look at lengths of sequence information, may have to pad to a consistent size\n",
        "temp = exp_atac[\"seq\"].str.len()\n",
        "n, bins, patches = plt.hist(temp, 30, density=True, facecolor='g', alpha=0.75)"
      ],
      "execution_count": 24,
      "outputs": [
        {
          "output_type": "display_data",
          "data": {
            "image/png": "[encoded data removed]",
            "text/plain": [
              "<Figure size 432x288 with 1 Axes>"
            ]
          },
          "metadata": {
            "needs_background": "light"
          }
        }
      ]
    },
    {
      "cell_type": "markdown",
      "metadata": {
        "id": "pzcv4_xgeUL9"
      },
      "source": [
        "### Test to see if the model is learning anything by adding random seqeunce onto all expressed genes"
      ]
    },
    {
      "cell_type": "code",
      "metadata": {
        "id": "jNuwJwXlhVLQ"
      },
      "source": [
        "# Uncomment code to run this section\n",
        "# temp = exp_atac.loc[exp_atac['target'] == 1, 'seq'].apply(lambda s: ''.join([\"T\"] * 20) + s[20:])\n",
        "# print(temp)\n",
        "\n",
        "# Assign these sequences to genes that are expressed = 1\n",
        "# exp_atac.loc[exp_atac['target'] == 1, 'seq'] = temp\n",
        "# exp_atac.sample(10)"
      ],
      "execution_count": 25,
      "outputs": []
    },
    {
      "cell_type": "markdown",
      "metadata": {
        "id": "5f7qZ5-Mqw7J"
      },
      "source": [
        "Look at dataset:\n",
        "- are there an equal number of expressed and non expressed genes? --> more unexpressed than expressed\n",
        "- What is the correlation in gene expression and the # of atacseq peaks? --> dont have the right data yet"
      ]
    },
    {
      "cell_type": "code",
      "metadata": {
        "colab": {
          "base_uri": "https://localhost:8080/"
        },
        "id": "8buPOa2Mqk_f",
        "outputId": "a082ffbd-c534-4e26-e4e7-4845b2a15132"
      },
      "source": [
        "# Count number of expressed and non-expressed genes\n",
        "print(\"Number of un-expressed genes:\", (exp_atac[\"target\"] == 0).sum())\n",
        "print(\"Number of expressed genes:\", (exp_atac[\"target\"] == 1).sum())"
      ],
      "execution_count": 26,
      "outputs": [
        {
          "output_type": "stream",
          "name": "stdout",
          "text": [
            "Number of un-expressed genes: 3406\n",
            "Number of expressed genes: 1969\n"
          ]
        }
      ]
    },
    {
      "cell_type": "markdown",
      "metadata": {
        "id": "uGzDuDpBSUpK"
      },
      "source": [
        "### Split training, validation, test data based on the Washburn 2019 gene families using a 80, 10, 10 split."
      ]
    },
    {
      "cell_type": "code",
      "metadata": {
        "colab": {
          "base_uri": "https://localhost:8080/"
        },
        "id": "cvwXIPbKSb5J",
        "outputId": "4be1ad39-aa60-4875-869c-c010f8d6690d"
      },
      "source": [
        "# load in data\n",
        "washburn = pd.read_csv((data_path +\"/washburn_training_test_v4_unexpressed_v_expressed.csv\"))\n",
        "\n",
        "# drop extra column\n",
        "washburn = washburn[[\"v4\", \"family_index\"]]\n",
        "\n",
        "# create train and test indicies\n",
        "from sklearn.model_selection import GroupShuffleSplit\n",
        "train_inds, test_inds = next(GroupShuffleSplit(test_size=.20, n_splits=2, random_state = 7).split(washburn, groups=washburn['family_index']))\n",
        "\n",
        "# Split data 80:20\n",
        "train = washburn.iloc[train_inds]\n",
        "test = washburn.iloc[test_inds]\n",
        "\n",
        "# Split test into a test and validation (0:10)\n",
        "test2_inds, validation_inds = next(GroupShuffleSplit(test_size=.5, n_splits=2, random_state = 7).split(test, groups=test['family_index']))\n",
        "\n",
        "test2 = test.iloc[test2_inds]\n",
        "validation = test.iloc[validation_inds]\n",
        "\n",
        "# Print out dimensions of training and test data\n",
        "print(train.shape, test2.shape, validation.shape)"
      ],
      "execution_count": 27,
      "outputs": [
        {
          "output_type": "stream",
          "name": "stdout",
          "text": [
            "(27984, 2) (3652, 2) (2720, 2)\n"
          ]
        }
      ]
    },
    {
      "cell_type": "markdown",
      "metadata": {
        "id": "Q71s-jeOezIa"
      },
      "source": [
        "Merge training, test, and validation with sequence information"
      ]
    },
    {
      "cell_type": "code",
      "metadata": {
        "colab": {
          "base_uri": "https://localhost:8080/"
        },
        "id": "LEN0B8uZe54G",
        "outputId": "cae07e93-26d0-4ab8-c032-e48578b7723f"
      },
      "source": [
        "# Merge test/train/val data with gene splits\n",
        "train = train.merge(exp_atac, left_on= 'v4', right_on= 'gene')\n",
        "test = test2.merge(exp_atac, left_on= 'v4', right_on= 'gene')\n",
        "validation = validation.merge(exp_atac, left_on= 'v4', right_on= 'gene')\n",
        "\n",
        "# Remove extra columns across files\n",
        "train = train[['seq', 'target']]\n",
        "test = test[['seq', 'target']]\n",
        "validation = validation[['seq', 'target']]\n",
        "\n",
        "print(train.shape, test.shape, validation.shape)\n",
        "print(train)"
      ],
      "execution_count": 28,
      "outputs": [
        {
          "output_type": "stream",
          "name": "stdout",
          "text": [
            "(4958, 2) (627, 2) (488, 2)\n",
            "                                                    seq  target\n",
            "0     CACGTGCCGACGACCACGCCTCCGTGCCGGGTAAACCGCCTACAAA...       1\n",
            "1     ACAAAAGGGTGGACGCGGAAGCCACGCACCTCGCCACCAGAAATTT...       1\n",
            "2     TTAGATACCCGAAATATAAAAAATCCAAAAACCCGACCCGAAATAT...       1\n",
            "3     AAAGGCACAAAGAAGCTTGTGGCGTCTGCATCTGCATGCGTTGTTG...       1\n",
            "4     CGTCCGGGTCTCGGGTGCGGTGTCGAAGGGTCCTTGTCGAACGCCA...       1\n",
            "...                                                 ...     ...\n",
            "4953  TCGTCAACGACGAAGACTAGAATGCACTAGATGGATCCATTAGTAG...       0\n",
            "4954  GGGCCGTTTCGAAGCCTATATAAGAAAAATAAAGAAAAAGGCCGTT...       0\n",
            "4955  TCACCTGCTTCCTGTACCGCGTCGTTGCTTCTGTAGCTGCCCACAA...       0\n",
            "4956  GAACAAAATATTTTAAAAAACGAATTTAAAAAAATAAGAAAATTAA...       1\n",
            "4957  TGTTGCTACTTCTACAGGACCACCTTCGAAGGCAGTTTACGCTTTC...       0\n",
            "\n",
            "[4958 rows x 2 columns]\n"
          ]
        }
      ]
    },
    {
      "cell_type": "markdown",
      "metadata": {
        "id": "2iYPpGjM_X_M"
      },
      "source": [
        "### DanQ model setup\n",
        "\n",
        "Taken from: https://bitbucket.org/bucklerlab/a2z-regulatory/src/master/src/python/a2z/a2z/data/__init__.py\n",
        "\n",
        "And from: https://bitbucket.org/bucklerlab/a2z-regulatory/src/master/results/2020-11-13_fig1/train.py"
      ]
    },
    {
      "cell_type": "code",
      "metadata": {
        "colab": {
          "base_uri": "https://localhost:8080/"
        },
        "id": "_ks24vDhA6cv",
        "outputId": "f1040ff4-d613-49a6-ecc3-57d6a231946e"
      },
      "source": [
        "# Create intervals, one hot encode them, return. Inputs: pandas dataframe with sequence and target data (expression)\n",
        "import logging\n",
        "from math import ceil\n",
        "from typing import Optional, Dict\n",
        "\n",
        "!pip install Bio\n",
        "from Bio import Seq\n",
        "import numpy as np\n",
        "import pandas as pd\n",
        "from tensorflow import keras as k\n",
        "\n",
        "\n",
        "BASE_1HOT = {\n",
        "    \"A\": np.array([1, 0, 0, 0]),\n",
        "    \"C\": np.array([0, 1, 0, 0]),\n",
        "    \"G\": np.array([0, 0, 1, 0]),\n",
        "    \"T\": np.array([0, 0, 0, 1]),\n",
        "    \"W\": np.array([0.5, 0, 0, 0.5]),\n",
        "    \"S\": np.array([0, 0.5, 0.5, 0]),\n",
        "    \"M\": np.array([0.5, 0.5, 0, 0]),\n",
        "    \"K\": np.array([0, 0, 0.5, 0.5]),\n",
        "    \"R\": np.array([0.5, 0, 0.5, 0]),\n",
        "    \"Y\": np.array([0, 0.5, 0, 0.5]),\n",
        "    \"B\": np.array([0, 1.0 / 3, 1.0 / 3, 1.0 / 3]),\n",
        "    \"D\": np.array([1.0 / 3, 0, 1.0 / 3, 1.0 / 3]),\n",
        "    \"H\": np.array([1.0 / 3, 1.0 / 3, 0, 1.0 / 3]),\n",
        "    \"V\": np.array([1.0 / 3, 1.0 / 3, 1.0 / 3, 0]),\n",
        "    \"N\": np.array([0.25, 0.25, 0.25, 0.25]),\n",
        "}\n",
        "\n",
        "\n",
        "def seq_one_hot_encode(seq: str, pad_to: Optional[int] = None):\n",
        "    \"\"\" one-hot encodes a DNA sequence \"\"\"\n",
        "    if pad_to:\n",
        "        encoded = np.zeros(shape=(pad_to, 4))\n",
        "        if len(seq) > pad_to:\n",
        "            seq = seq[:pad_to]\n",
        "    else:\n",
        "        encoded = np.zeros(shape=(len(seq), 4))\n",
        "\n",
        "    for i, base in enumerate(seq.upper()):\n",
        "        try:\n",
        "            encoded[i, :] = BASE_1HOT[base]\n",
        "        except KeyError:\n",
        "            logging.error(\n",
        "                f\"Unrecognized base encountered during one-hot \" f\"encoding: '{base}'\"\n",
        "            )\n",
        "    return encoded\n",
        "\n",
        "class IntervalDataset(k.utils.Sequence):\n",
        "    def __init__(self, intervals_df: pd.DataFrame, batch_size = 128, pad_to = None, no_target = False):\n",
        "        self._df = intervals_df\n",
        "        self.batch_size = batch_size\n",
        "        self.pad_to = pad_to\n",
        "        self.no_target = no_target\n",
        "\n",
        "    def __len__(self):\n",
        "        return ceil(len(self._df) / self.batch_size)\n",
        "\n",
        "    def __getitem__(self, idx: int):\n",
        "        batch_start_idx = idx * self.batch_size\n",
        "        batch_intervals = self._df.iloc[batch_start_idx : batch_start_idx + self.batch_size]\n",
        "        try:\n",
        "            x = np.stack([seq_one_hot_encode(seq, self.pad_to) for seq in batch_intervals['seq']])\n",
        "        except ValueError as e:\n",
        "            logging.error(\"ValueError encountered while trying to one-hot encode sequence batches, are all of your sequences the same length?\")\n",
        "            raise e\n",
        "        if self.no_target:\n",
        "            y = None\n",
        "        else:\n",
        "            y = np.expand_dims(batch_intervals['target'].to_numpy(), axis = 1)\n",
        "\n",
        "        return (x, y)\n"
      ],
      "execution_count": 29,
      "outputs": [
        {
          "output_type": "stream",
          "name": "stdout",
          "text": [
            "Requirement already satisfied: Bio in /usr/local/lib/python3.7/dist-packages (0.8.9)\n",
            "Requirement already satisfied: tqdm>=4.62 in /usr/local/lib/python3.7/dist-packages (from Bio) (4.62.0)\n",
            "Requirement already satisfied: plac in /usr/local/lib/python3.7/dist-packages (from Bio) (1.1.3)\n",
            "Requirement already satisfied: biopython>=1.79 in /usr/local/lib/python3.7/dist-packages (from Bio) (1.79)\n",
            "Requirement already satisfied: mygene in /usr/local/lib/python3.7/dist-packages (from Bio) (3.2.2)\n",
            "Requirement already satisfied: requests in /usr/local/lib/python3.7/dist-packages (from Bio) (2.23.0)\n",
            "Requirement already satisfied: numpy in /usr/local/lib/python3.7/dist-packages (from biopython>=1.79->Bio) (1.19.5)\n",
            "Requirement already satisfied: biothings-client>=0.2.6 in /usr/local/lib/python3.7/dist-packages (from mygene->Bio) (0.2.6)\n",
            "Requirement already satisfied: urllib3!=1.25.0,!=1.25.1,<1.26,>=1.21.1 in /usr/local/lib/python3.7/dist-packages (from requests->Bio) (1.24.3)\n",
            "Requirement already satisfied: chardet<4,>=3.0.2 in /usr/local/lib/python3.7/dist-packages (from requests->Bio) (3.0.4)\n",
            "Requirement already satisfied: certifi>=2017.4.17 in /usr/local/lib/python3.7/dist-packages (from requests->Bio) (2021.5.30)\n",
            "Requirement already satisfied: idna<3,>=2.5 in /usr/local/lib/python3.7/dist-packages (from requests->Bio) (2.10)\n"
          ]
        }
      ]
    },
    {
      "cell_type": "code",
      "metadata": {
        "id": "0EQPSOQE_awW"
      },
      "source": [
        "# create interval refernces (sequence and target --> character DNA and target DNA seqeunce)\n",
        "training_data = IntervalDataset(train)\n",
        "validation_data = IntervalDataset(validation)\n",
        "test_data = IntervalDataset(test)"
      ],
      "execution_count": 30,
      "outputs": []
    },
    {
      "cell_type": "markdown",
      "metadata": {
        "id": "SZLJHU6U5evb"
      },
      "source": [
        "### Build DanQ model"
      ]
    },
    {
      "cell_type": "code",
      "metadata": {
        "id": "r3CXCMOnVDhQ"
      },
      "source": [
        "import imp\n",
        "import tensorflow.keras.layers as kl\n",
        "\n",
        "def build_DanQ(window_size: int = 300, conv_activation = 'relu') -> keras.Model:\n",
        "    DanQ = keras.Sequential([\n",
        "        kl.Conv1D(320, 26, activation = conv_activation, input_shape = (window_size, 4)),\n",
        "        kl.Dropout(0.2),\n",
        "        kl.MaxPool1D(13, 13),\n",
        "        kl.Bidirectional(kl.LSTM(320)),\n",
        "        kl.Dropout(0.5),\n",
        "        kl.Dense(925),\n",
        "        kl.Dense(1, activation = 'sigmoid')\n",
        "        ], name = \"DanQ\")\n",
        "    return DanQ\n",
        "\n",
        "# Build DanQ model\n",
        "model_v1 = build_DanQ(250)\n",
        "\n",
        "# Change learning rate\n",
        "from keras import metrics\n",
        "optimizer = keras.optimizers.Adam(learning_rate=10)\n",
        "model_v1.compile(loss='BCE',\n",
        "              optimizer=optimizer, \n",
        "              metrics=['accuracy'])"
      ],
      "execution_count": 31,
      "outputs": []
    },
    {
      "cell_type": "code",
      "metadata": {
        "colab": {
          "base_uri": "https://localhost:8080/"
        },
        "id": "Ld5ZvhcJ0OiV",
        "outputId": "1909d610-5f42-4551-fe13-893a65f9f2cc"
      },
      "source": [
        "model_v1.summary()"
      ],
      "execution_count": 32,
      "outputs": [
        {
          "output_type": "stream",
          "name": "stdout",
          "text": [
            "Model: \"DanQ\"\n",
            "_________________________________________________________________\n",
            "Layer (type)                 Output Shape              Param #   \n",
            "=================================================================\n",
            "conv1d_1 (Conv1D)            (None, 225, 320)          33600     \n",
            "_________________________________________________________________\n",
            "dropout_2 (Dropout)          (None, 225, 320)          0         \n",
            "_________________________________________________________________\n",
            "max_pooling1d_1 (MaxPooling1 (None, 17, 320)           0         \n",
            "_________________________________________________________________\n",
            "bidirectional_1 (Bidirection (None, 640)               1640960   \n",
            "_________________________________________________________________\n",
            "dropout_3 (Dropout)          (None, 640)               0         \n",
            "_________________________________________________________________\n",
            "dense_2 (Dense)              (None, 925)               592925    \n",
            "_________________________________________________________________\n",
            "dense_3 (Dense)              (None, 1)                 926       \n",
            "=================================================================\n",
            "Total params: 2,268,411\n",
            "Trainable params: 2,268,411\n",
            "Non-trainable params: 0\n",
            "_________________________________________________________________\n"
          ]
        }
      ]
    },
    {
      "cell_type": "markdown",
      "metadata": {
        "id": "3LigFmlEB4Cg"
      },
      "source": [
        "Build Danq with different parameters"
      ]
    },
    {
      "cell_type": "code",
      "metadata": {
        "id": "HOmzk03UB89m"
      },
      "source": [
        "def build_DanQ_v2(window_size: int = 300, conv_activation = 'relu') -> keras.Model:\n",
        "    DanQ = keras.Sequential([\n",
        "        kl.Conv1D(40, 26, activation = conv_activation, input_shape = (window_size, 4)),\n",
        "        kl.Dropout(0),\n",
        "        kl.MaxPool1D(13, 13),\n",
        "        kl.Bidirectional(kl.LSTM(40)),\n",
        "        kl.Dropout(0),\n",
        "        kl.Dense(200),\n",
        "        kl.Dense(1, activation = 'sigmoid')\n",
        "        ], name = \"DanQ\")\n",
        "    return DanQ\n",
        "\n",
        "# Build DanQ model\n",
        "model_v2 = build_DanQ_v2(250)\n",
        "\n",
        "# Change learning rate\n",
        "from keras import metrics\n",
        "optimizer = keras.optimizers.Adam(learning_rate=5)\n",
        "model_v2.compile(loss='BCE',\n",
        "              optimizer=optimizer, \n",
        "              metrics=['accuracy'])"
      ],
      "execution_count": 33,
      "outputs": []
    },
    {
      "cell_type": "code",
      "metadata": {
        "colab": {
          "base_uri": "https://localhost:8080/"
        },
        "id": "LliJKEYOCneV",
        "outputId": "5537773c-8c67-46ab-e518-8e19066bafa5"
      },
      "source": [
        "model_v2.summary()"
      ],
      "execution_count": 34,
      "outputs": [
        {
          "output_type": "stream",
          "name": "stdout",
          "text": [
            "Model: \"DanQ\"\n",
            "_________________________________________________________________\n",
            "Layer (type)                 Output Shape              Param #   \n",
            "=================================================================\n",
            "conv1d_2 (Conv1D)            (None, 225, 40)           4200      \n",
            "_________________________________________________________________\n",
            "dropout_4 (Dropout)          (None, 225, 40)           0         \n",
            "_________________________________________________________________\n",
            "max_pooling1d_2 (MaxPooling1 (None, 17, 40)            0         \n",
            "_________________________________________________________________\n",
            "bidirectional_2 (Bidirection (None, 80)                25920     \n",
            "_________________________________________________________________\n",
            "dropout_5 (Dropout)          (None, 80)                0         \n",
            "_________________________________________________________________\n",
            "dense_4 (Dense)              (None, 200)               16200     \n",
            "_________________________________________________________________\n",
            "dense_5 (Dense)              (None, 1)                 201       \n",
            "=================================================================\n",
            "Total params: 46,521\n",
            "Trainable params: 46,521\n",
            "Non-trainable params: 0\n",
            "_________________________________________________________________\n"
          ]
        }
      ]
    },
    {
      "cell_type": "code",
      "metadata": {
        "id": "oBOcOv0_LlOv"
      },
      "source": [
        "def build_DanQ_v3(window_size: int = 300, conv_activation = 'relu') -> keras.Model:\n",
        "    DanQ = keras.Sequential([\n",
        "        kl.Conv1D(150, 26, activation = conv_activation, input_shape = (window_size, 4)),\n",
        "        kl.Dropout(0.1),\n",
        "        kl.MaxPool1D(13, 13),\n",
        "        kl.Bidirectional(kl.LSTM(150)),\n",
        "        kl.Dropout(0.25),\n",
        "        kl.Dense(450),\n",
        "        kl.Dense(1, activation = 'sigmoid')\n",
        "        ], name = \"DanQ\")\n",
        "    return DanQ\n",
        "\n",
        "# Build DanQ model\n",
        "model_v3 = build_DanQ_v3(250)\n",
        "\n",
        "# Change learning rate\n",
        "from keras import metrics\n",
        "optimizer = keras.optimizers.Adam(learning_rate=10)\n",
        "model_v3.compile(loss='BCE',\n",
        "              optimizer=optimizer, \n",
        "              metrics=['accuracy'])"
      ],
      "execution_count": 35,
      "outputs": []
    },
    {
      "cell_type": "markdown",
      "metadata": {
        "id": "7Z3ssyn2CaE2"
      },
      "source": [
        "Train model"
      ]
    },
    {
      "cell_type": "code",
      "metadata": {
        "id": "6EEJJZp6FygG"
      },
      "source": [
        "# Change which model we're evaluating \n",
        "model = model_v1"
      ],
      "execution_count": 36,
      "outputs": []
    },
    {
      "cell_type": "code",
      "metadata": {
        "id": "mbkiYUIBT0y_"
      },
      "source": [
        "# Set parameters\n",
        "validation_freq = 1\n",
        "epochs = 13\n",
        "\n",
        "# Fit model\n",
        "train_history = model.fit(\n",
        "    training_data,\n",
        "    validation_data = validation_data,\n",
        "    validation_freq = validation_freq,\n",
        "    epochs = epochs,\n",
        "    workers = 1,\n",
        "    verbose = 0)"
      ],
      "execution_count": 37,
      "outputs": []
    },
    {
      "cell_type": "markdown",
      "metadata": {
        "id": "0rCTR4vRIW-1"
      },
      "source": [
        "### Look at model prediction accuracy"
      ]
    },
    {
      "cell_type": "code",
      "metadata": {
        "id": "r36EGXS5IWDu",
        "colab": {
          "base_uri": "https://localhost:8080/",
          "height": 590
        },
        "outputId": "350a2040-e3c0-45e0-c8c6-1878745edb7f"
      },
      "source": [
        "# summarize history for accuracy\n",
        "plt.plot(train_history.history['accuracy'])\n",
        "plt.plot(train_history.history['val_accuracy'])\n",
        "plt.title('model accuracy')\n",
        "plt.ylabel('accuracy')\n",
        "plt.xlabel('epoch')\n",
        "plt.legend(['train', 'test'], loc='upper left')\n",
        "plt.show()\n",
        "\n",
        "# plot training curves --> loss vs epoch\n",
        "fig, ax = plt.subplots()\n",
        "ax.plot(train_history.epoch, train_history.history['loss'], color = 'orange', label = 'Training')\n",
        "ax.plot(np.arange(validation_freq - 1, epochs, validation_freq), train_history.history['val_loss'], color = 'lightblue', label = 'Validation')\n",
        "ax.set_xlabel('Epoch')\n",
        "ax.set_ylabel(f\"Loss ({model.loss})\")\n",
        "ax.set_title(f\"{model.name} Training Curve\")\n",
        "ax.legend()"
      ],
      "execution_count": 38,
      "outputs": [
        {
          "output_type": "display_data",
          "data": {
            "image/png": "[encoded data removed]",
            "text/plain": [
              "<Figure size 432x288 with 1 Axes>"
            ]
          },
          "metadata": {
            "needs_background": "light"
          }
        },
        {
          "output_type": "execute_result",
          "data": {
            "text/plain": [
              "<matplotlib.legend.Legend at 0x7f370edd4f50>"
            ]
          },
          "metadata": {},
          "execution_count": 38
        },
        {
          "output_type": "display_data",
          "data": {
            "image/png": "[encoded data removed]",
            "text/plain": [
              "<Figure size 432x288 with 1 Axes>"
            ]
          },
          "metadata": {
            "needs_background": "light"
          }
        }
      ]
    },
    {
      "cell_type": "markdown",
      "metadata": {
        "id": "tY7LVwfpw5JG"
      },
      "source": [
        "### Look at model predictions with test set"
      ]
    },
    {
      "cell_type": "code",
      "metadata": {
        "id": "v8uTzv32w4T0",
        "colab": {
          "base_uri": "https://localhost:8080/",
          "height": 329
        },
        "outputId": "a4014d25-cff2-40a2-d166-50d1bec59195"
      },
      "source": [
        "# Generate predictions (probabilities -- the output of the last layer)\n",
        "# on new data using `predict`\n",
        "print(\"Generate predictions\")\n",
        "predictions = model.predict(test_data)\n",
        "\n",
        "# plot predictions vs actual data\n",
        "import matplotlib.pyplot as plt\n",
        "plt.scatter(test['target'], predictions)\n",
        "plt.xlabel('Observed Expression')\n",
        "plt.ylabel(\"Predicted Expression\")\n",
        "plt.title(\"Predicted vs Observed max-HARE Expression\")"
      ],
      "execution_count": 39,
      "outputs": [
        {
          "output_type": "stream",
          "name": "stdout",
          "text": [
            "Generate predictions\n"
          ]
        },
        {
          "output_type": "execute_result",
          "data": {
            "text/plain": [
              "Text(0.5, 1.0, 'Predicted vs Observed max-HARE Expression')"
            ]
          },
          "metadata": {},
          "execution_count": 39
        },
        {
          "output_type": "display_data",
          "data": {
            "image/png": "[encoded data removed]",
            "text/plain": [
              "<Figure size 432x288 with 1 Axes>"
            ]
          },
          "metadata": {
            "needs_background": "light"
          }
        }
      ]
    },
    {
      "cell_type": "markdown",
      "metadata": {
        "id": "fmYQOSSO4_4m"
      },
      "source": [
        "### Create ROC, PR, and TPR curves.\n",
        "\n",
        "Taken from: https://bitbucket.org/bucklerlab/a2z-regulatory/src/master/src/python/a2z/a2z/plots.py"
      ]
    },
    {
      "cell_type": "code",
      "metadata": {
        "id": "fqMX9oYi5B73"
      },
      "source": [
        "from collections import Counter\n",
        "from typing import Iterable\n",
        "\n",
        "import numpy as np\n",
        "from matplotlib.figure import Figure\n",
        "from matplotlib.patches import FancyBboxPatch\n",
        "import matplotlib.pyplot as plt\n",
        "from sklearn.metrics import precision_recall_curve, f1_score\n",
        "from sklearn.metrics import roc_curve as sk_roc_curve\n",
        "\n",
        "def pr_curve(y_true: Iterable, scores: Iterable) -> Figure:\n",
        "    fig, ax = plt.subplots()\n",
        "\n",
        "    # determine baseline\n",
        "    true_cnt = Counter(y_true)\n",
        "    n = sum(true_cnt.values())\n",
        "    n_true = true_cnt[1]\n",
        "    base_y = n_true / n\n",
        "\n",
        "    precision, recall, thresholds = precision_recall_curve(y_true, scores)\n",
        "    ax.plot(recall, precision)\n",
        "    ax.plot([0, 1], [base_y] * 2, color=\"gray\", linestyle=\"--\", label=\"Baseline\")\n",
        "    ax.set_xlim((0, 1))\n",
        "    ax.set_ylim((0, 1))\n",
        "    ax.set_xlabel(\"Recall\")\n",
        "    ax.set_ylabel(\"Precision\")\n",
        "    ax.set_title(\"PR Curve\")\n",
        "    ax.legend()\n",
        "\n",
        "    return fig\n",
        "\n",
        "\n",
        "def tpr_curve(y_true: Iterable, scores: Iterable) -> Figure:\n",
        "    \"\"\" F1 baseline credit: https://stats.stackexchange.com/questions/390200/what-is-the-baseline-of-the-f1-score-for-a-binary-classifier  \"\"\"\n",
        "    fig, ax = plt.subplots()\n",
        "\n",
        "    # determine baseline\n",
        "    true_cnt = Counter(y_true)\n",
        "    n = sum(true_cnt.values())\n",
        "    n_true = true_cnt[1]\n",
        "    base_y = n_true / n\n",
        "\n",
        "    precision, recall, thresholds = precision_recall_curve(y_true, scores)\n",
        "    f1 = 2 * ((precision * recall) / (precision + recall))\n",
        "    f1_baseline = (2 * base_y) / (base_y + 1)\n",
        "    ax.plot(thresholds, precision[:-1], label = \"Precision\")\n",
        "    ax.plot(thresholds, recall[:-1], label = \"Recall\")\n",
        "    ax.plot(thresholds, f1[:-1], label = \"F1 Score\")\n",
        "    ax.plot([0, 1], [base_y] * 2, color=\"gray\", linestyle=\"--\", label=\"Precision Baseline\")\n",
        "    ax.plot([0, 1], [f1_baseline] * 2, color=\"lightgray\", linestyle = \"--\", label=\"F1 Baseline\")\n",
        "    ax.set_xlim((0, 1))\n",
        "    ax.set_ylim((0, 1))\n",
        "    ax.set_xlabel(\"Threshold\")\n",
        "    ax.set_ylabel(\"Metric\")\n",
        "    ax.set_title(\"TPR Curve\")\n",
        "    ax.legend()\n",
        "\n",
        "    return fig\n",
        "\n",
        "\n",
        "def roc_curve(y_true: Iterable, scores: Iterable) -> Figure:\n",
        "    fig, ax = plt.subplots()\n",
        "\n",
        "    fpr, tpr, thresholds = sk_roc_curve(y_true, scores)\n",
        "    print(fpr, tpr, thresholds)\n",
        "    ax.plot(fpr, tpr)\n",
        "    ax.plot([0, 1], [0, 1], color=\"gray\", linestyle=\"--\", label=\"Baseline\")\n",
        "    ax.set_xlim((-0.1, 1.2))\n",
        "    ax.set_ylim((0, 1.2))\n",
        "    ax.set_xlabel(\"False Positive Rate\")\n",
        "    ax.set_ylabel(\"True Positive Rate\")\n",
        "    ax.set_title(\"ROC Curve\")\n",
        "    ax.legend()\n",
        "\n",
        "    return fig"
      ],
      "execution_count": 41,
      "outputs": []
    },
    {
      "cell_type": "markdown",
      "metadata": {
        "id": "kHPAg1bsydhR"
      },
      "source": [
        "### Calulate a single value for the area under the curve (auROC)"
      ]
    },
    {
      "cell_type": "code",
      "metadata": {
        "id": "jOzpmNupchGm",
        "colab": {
          "base_uri": "https://localhost:8080/"
        },
        "outputId": "b77dc02c-c0d9-451d-dd97-8192f31be66f"
      },
      "source": [
        "from sklearn.metrics import precision_recall_curve, classification_report, roc_auc_score, average_precision_score, f1_score\n",
        "auROC = roc_auc_score(test['target'], predictions)\n",
        "print(auROC)"
      ],
      "execution_count": 42,
      "outputs": [
        {
          "output_type": "stream",
          "name": "stdout",
          "text": [
            "0.5\n"
          ]
        }
      ]
    },
    {
      "cell_type": "code",
      "metadata": {
        "id": "UeMxh6d4DZAm",
        "colab": {
          "base_uri": "https://localhost:8080/",
          "height": 1000
        },
        "outputId": "86d95f9f-8b3d-401f-cea1-21403c422405"
      },
      "source": [
        "# Make plots\n",
        "pr_curve(test['target'], predictions.flatten())\n",
        "tpr_curve(test['target'], predictions.flatten())\n",
        "roc_curve(test['target'], predictions.flatten())"
      ],
      "execution_count": 43,
      "outputs": [
        {
          "output_type": "stream",
          "name": "stdout",
          "text": [
            "[0. 1.] [0. 1.] [2. 1.]\n"
          ]
        },
        {
          "output_type": "execute_result",
          "data": {
            "image/png": "[encoded data removed]",
            "text/plain": [
              "<Figure size 432x288 with 1 Axes>"
            ]
          },
          "metadata": {},
          "execution_count": 43
        },
        {
          "output_type": "display_data",
          "data": {
            "image/png": "[encoded data removed]",
            "text/plain": [
              "<Figure size 432x288 with 1 Axes>"
            ]
          },
          "metadata": {
            "needs_background": "light"
          }
        },
        {
          "output_type": "display_data",
          "data": {
            "image/png": "[encoded data removed]",
            "text/plain": [
              "<Figure size 432x288 with 1 Axes>"
            ]
          },
          "metadata": {
            "needs_background": "light"
          }
        },
        {
          "output_type": "display_data",
          "data": {
            "image/png": "[encoded data removed]",
            "text/plain": [
              "<Figure size 432x288 with 1 Axes>"
            ]
          },
          "metadata": {
            "needs_background": "light"
          }
        }
      ]
    }
  ]
}